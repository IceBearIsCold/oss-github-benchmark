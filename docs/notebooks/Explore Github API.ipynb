{
 "cells": [
  {
   "cell_type": "code",
   "execution_count": 3,
   "metadata": {},
   "outputs": [],
   "source": [
    "import json\n",
    "import csv\n",
    "import os\n",
    "from github import Github\n",
    "\n",
    "# GitHub Login mittels Token\n",
    "g = Github(os.environ['GITHUBTOKEN'])\n",
    "\n",
    "# JSON Daten laden, Variablen setzen\n",
    "with open('github_repos.json', encoding='utf-8') as file:\n",
    "    githubrepos = json.load(file)\n",
    "institutions_data = []\n",
    "counter = 0\n",
    "sector = \"\""
   ]
  },
  {
   "cell_type": "code",
   "execution_count": 3,
   "metadata": {
    "scrolled": true
   },
   "outputs": [
    {
     "data": {
      "text/plain": [
       "[{'name': '4teamwork AG', 'orgs': ['4teamwork']},\n",
       " {'name': '56K Cloud', 'orgs': ['56kcloud']},\n",
       " {'name': 'Adfinis SyGroup', 'orgs': ['adfinis-sygroup', 'adfinis-forks']},\n",
       " {'name': 'AdNovum Informatik AG', 'orgs': ['adnovum']},\n",
       " {'name': 'Abraxas', 'orgs': ['abraxas-labs']},\n",
       " {'name': 'amazee.io', 'orgs': ['amazeeio']},\n",
       " {'name': 'Bedag', 'orgs': ['bedag']},\n",
       " {'name': 'BSI Business Systems Integration AG',\n",
       "  'orgs': ['BSI-Business-Systems-Integration-AG']},\n",
       " {'name': 'Camptocamp', 'orgs': ['camptocamp']},\n",
       " {'name': 'cloudscale.ch AG', 'orgs': ['cloudscale-ch']},\n",
       " {'name': 'cyon GmbH', 'orgs': ['cyon']},\n",
       " {'name': 'DV Bern', 'orgs': ['dvbern']},\n",
       " {'name': 'ELCA', 'orgs': ['ElcaIT']},\n",
       " {'name': 'Exoscale', 'orgs': ['exoscale']},\n",
       " {'name': 'iSolutions', 'orgs': ['isolutionsag']},\n",
       " {'name': 'Interactive Things', 'orgs': ['interactivethings']},\n",
       " {'name': 'ITIGO AG', 'orgs': ['itigoag']},\n",
       " {'name': 'Garaio', 'orgs': ['garaio']},\n",
       " {'name': 'gyselroth', 'orgs': ['gyselroth']},\n",
       " {'name': 'Liip', 'orgs': ['liip', 'liip-forks']},\n",
       " {'name': 'mimacom', 'orgs': ['mimacom']},\n",
       " {'name': 'Netcetera', 'orgs': ['netceteragroup']},\n",
       " {'name': 'OPENGIS.ch GmbH', 'orgs': ['opengisch']},\n",
       " {'name': 'Openstream Internet Solutions', 'orgs': ['openstream']},\n",
       " {'name': 'Puzzle ITC', 'orgs': ['puzzle']},\n",
       " {'name': 'Snowflake', 'orgs': ['snowflakech']},\n",
       " {'name': 'Sourcepole', 'orgs': ['sourcepole']},\n",
       " {'name': 'Tegonal', 'orgs': ['tegonal']},\n",
       " {'name': 'unprofession', 'orgs': ['unprofession-al']},\n",
       " {'name': 'VSHN AG', 'orgs': ['vshn']},\n",
       " {'name': 'XWare GmbH', 'orgs': ['xware-gmbh']},\n",
       " {'name': 'Zühlke', 'orgs': ['Zuehlke']}]"
      ]
     },
     "execution_count": 3,
     "metadata": {},
     "output_type": "execute_result"
    }
   ],
   "source": [
    "githubrepos['GitHubRepos']['IT']['institutions']"
   ]
  },
  {
   "cell_type": "code",
   "execution_count": 4,
   "metadata": {},
   "outputs": [
    {
     "data": {
      "text/plain": [
       "['adfinis-sygroup', 'adfinis-forks']"
      ]
     },
     "execution_count": 4,
     "metadata": {},
     "output_type": "execute_result"
    }
   ],
   "source": [
    "liip = [ item for item in githubrepos['GitHubRepos']['IT']['institutions'] if item['name']=='Liip' ][0]['orgs']\n",
    "liip\n",
    "adfinis = [ item for item in githubrepos['GitHubRepos']['IT']['institutions'] if item['name']=='Adfinis SyGroup' ][0]['orgs']\n",
    "adfinis"
   ]
  },
  {
   "cell_type": "code",
   "execution_count": 5,
   "metadata": {},
   "outputs": [
    {
     "data": {
      "text/plain": [
       "[Repository(full_name=\"adfinis-sygroup/freeze\"),\n",
       " Repository(full_name=\"adfinis-sygroup/groupmail\"),\n",
       " Repository(full_name=\"adfinis-sygroup/2119\"),\n",
       " Repository(full_name=\"adfinis-sygroup/vagrant-roundcube-plugins\"),\n",
       " Repository(full_name=\"adfinis-sygroup/roundcube-plugin-mailforward\"),\n",
       " Repository(full_name=\"adfinis-sygroup/roundcube-plugin-amavisspamsettings\"),\n",
       " Repository(full_name=\"adfinis-sygroup/vagrant-debian8-box\"),\n",
       " Repository(full_name=\"adfinis-sygroup/adcssy\"),\n",
       " Repository(full_name=\"adfinis-sygroup/vagrant-debian7-box\"),\n",
       " Repository(full_name=\"adfinis-sygroup/customer-center\"),\n",
       " Repository(full_name=\"adfinis-sygroup/syrpc-php\"),\n",
       " Repository(full_name=\"adfinis-sygroup/syrpc-js\"),\n",
       " Repository(full_name=\"adfinis-sygroup/syrpc-python\"),\n",
       " Repository(full_name=\"adfinis-sygroup/syrpc\"),\n",
       " Repository(full_name=\"adfinis-sygroup/ember-sy\"),\n",
       " Repository(full_name=\"adfinis-sygroup/ember-adcssy\"),\n",
       " Repository(full_name=\"adfinis-sygroup/pyproject\"),\n",
       " Repository(full_name=\"adfinis-sygroup/mariadb-ansible-galera-cluster\"),\n",
       " Repository(full_name=\"adfinis-sygroup/vagrant-centos6-box\"),\n",
       " Repository(full_name=\"adfinis-sygroup/finja\"),\n",
       " Repository(full_name=\"adfinis-sygroup/virtesk\"),\n",
       " Repository(full_name=\"adfinis-sygroup/pyaptly\"),\n",
       " Repository(full_name=\"adfinis-sygroup/adsy-sphinx-template\"),\n",
       " Repository(full_name=\"adfinis-sygroup/foreman-yml\"),\n",
       " Repository(full_name=\"adfinis-sygroup/check-ssl\"),\n",
       " Repository(full_name=\"adfinis-sygroup/vagrant-manual-build\"),\n",
       " Repository(full_name=\"adfinis-sygroup/vagrant-centos7-box\"),\n",
       " Repository(full_name=\"adfinis-sygroup/foreman-ansible\"),\n",
       " Repository(full_name=\"adfinis-sygroup/timed-backend\"),\n",
       " Repository(full_name=\"adfinis-sygroup/timed-frontend\"),\n",
       " Repository(full_name=\"adfinis-sygroup/matterpy\"),\n",
       " Repository(full_name=\"adfinis-sygroup/pyark\"),\n",
       " Repository(full_name=\"adfinis-sygroup/ember-filter-image\"),\n",
       " Repository(full_name=\"adfinis-sygroup/libreoffice-smb-slider\"),\n",
       " Repository(full_name=\"adfinis-sygroup/freewvs-wrapper\"),\n",
       " Repository(full_name=\"adfinis-sygroup/openshift-mariadb-galera\"),\n",
       " Repository(full_name=\"adfinis-sygroup/vault-client\"),\n",
       " Repository(full_name=\"adfinis-sygroup/ember-validated-form\"),\n",
       " Repository(full_name=\"adfinis-sygroup/yuidoc-adsy-theme\"),\n",
       " Repository(full_name=\"adfinis-sygroup/mariadb-galera-chart\"),\n",
       " Repository(full_name=\"adfinis-sygroup/sbb-fallblatt\"),\n",
       " Repository(full_name=\"adfinis-sygroup/rmd.io\"),\n",
       " Repository(full_name=\"adfinis-sygroup/aem-docker\"),\n",
       " Repository(full_name=\"adfinis-sygroup/pure_func\"),\n",
       " Repository(full_name=\"adfinis-sygroup/adsy-trainings-common\"),\n",
       " Repository(full_name=\"adfinis-sygroup/adsy-trainings\"),\n",
       " Repository(full_name=\"adfinis-sygroup/gitlab-pkgbot\"),\n",
       " Repository(full_name=\"adfinis-sygroup/ose-dotnet-mssql-example\"),\n",
       " Repository(full_name=\"adfinis-sygroup/gitlab-docsbot\"),\n",
       " Repository(full_name=\"adfinis-sygroup/mirror-ansible\"),\n",
       " Repository(full_name=\"adfinis-sygroup/ember-autolinker\"),\n",
       " Repository(full_name=\"adfinis-sygroup/effing-package-manager-docker\"),\n",
       " Repository(full_name=\"adfinis-sygroup/poweradmin-rest-api\"),\n",
       " Repository(full_name=\"adfinis-sygroup/timed-chart\"),\n",
       " Repository(full_name=\"adfinis-sygroup/timed-client\"),\n",
       " Repository(full_name=\"adfinis-sygroup/ansible-lint-rules\"),\n",
       " Repository(full_name=\"adfinis-sygroup/acme-powerdns\"),\n",
       " Repository(full_name=\"adfinis-sygroup/ansible-roles\"),\n",
       " Repository(full_name=\"adfinis-sygroup/ansible-guide\"),\n",
       " Repository(full_name=\"adfinis-sygroup/node-url-urlshortener\"),\n",
       " Repository(full_name=\"adfinis-sygroup/ember-uikit-adsy-theme\"),\n",
       " Repository(full_name=\"adfinis-sygroup/ember-uikit\"),\n",
       " Repository(full_name=\"adfinis-sygroup/osschallenge\"),\n",
       " Repository(full_name=\"adfinis-sygroup/limesurvey-theme\"),\n",
       " Repository(full_name=\"adfinis-sygroup/ember-model-namespaces\"),\n",
       " Repository(full_name=\"adfinis-sygroup/cookiecutter-django-json-api\"),\n",
       " Repository(full_name=\"adfinis-sygroup/packer-cloud-images\"),\n",
       " Repository(full_name=\"adfinis-sygroup/ansible-role-azure_linux_image\"),\n",
       " Repository(full_name=\"adfinis-sygroup/vagrant-debian9-box\"),\n",
       " Repository(full_name=\"adfinis-sygroup/vagrant-ubuntu16.04-box\"),\n",
       " Repository(full_name=\"adfinis-sygroup/vagrant-ubuntu14.04-box\"),\n",
       " Repository(full_name=\"adfinis-sygroup/backupctl\"),\n",
       " Repository(full_name=\"adfinis-sygroup/timed-demo\"),\n",
       " Repository(full_name=\"adfinis-sygroup/ansible-role-ansible\"),\n",
       " Repository(full_name=\"adfinis-sygroup/ansible-role-console\"),\n",
       " Repository(full_name=\"adfinis-sygroup/ansible-role-docker\"),\n",
       " Repository(full_name=\"adfinis-sygroup/ansible-role-grub\"),\n",
       " Repository(full_name=\"adfinis-sygroup/ansible-role-hostname\"),\n",
       " Repository(full_name=\"adfinis-sygroup/ansible-role-hwraid\"),\n",
       " Repository(full_name=\"adfinis-sygroup/ansible-role-hw_vm_tools\"),\n",
       " Repository(full_name=\"adfinis-sygroup/ansible-role-ipmi\"),\n",
       " Repository(full_name=\"adfinis-sygroup/ansible-role-iptables\"),\n",
       " Repository(full_name=\"adfinis-sygroup/ansible-role-mariadb\"),\n",
       " Repository(full_name=\"adfinis-sygroup/ansible-role-motd\"),\n",
       " Repository(full_name=\"adfinis-sygroup/ansible-role-network\"),\n",
       " Repository(full_name=\"adfinis-sygroup/ansible-role-nginx\"),\n",
       " Repository(full_name=\"adfinis-sygroup/ansible-role-nodejs\"),\n",
       " Repository(full_name=\"adfinis-sygroup/ansible-role-ntp\"),\n",
       " Repository(full_name=\"adfinis-sygroup/ansible-role-pkg_mirror\"),\n",
       " Repository(full_name=\"adfinis-sygroup/ansible-role-pki\"),\n",
       " Repository(full_name=\"adfinis-sygroup/ansible-role-postfix\"),\n",
       " Repository(full_name=\"adfinis-sygroup/ansible-role-rpcbind\"),\n",
       " Repository(full_name=\"adfinis-sygroup/ansible-role-rsyslog\"),\n",
       " Repository(full_name=\"adfinis-sygroup/ansible-role-snmp\"),\n",
       " Repository(full_name=\"adfinis-sygroup/ansible-role-ssh\"),\n",
       " Repository(full_name=\"adfinis-sygroup/ansible-role-telegraf\"),\n",
       " Repository(full_name=\"adfinis-sygroup/ansible-role-_template\"),\n",
       " Repository(full_name=\"adfinis-sygroup/ansible-role-upgrade\"),\n",
       " Repository(full_name=\"adfinis-sygroup/ansible-role-users\"),\n",
       " Repository(full_name=\"adfinis-sygroup/ansible-role-sqlite\"),\n",
       " Repository(full_name=\"adfinis-sygroup/ansible-role-libvirt\"),\n",
       " Repository(full_name=\"adfinis-sygroup/ember-simple-auth-oidc\"),\n",
       " Repository(full_name=\"adfinis-sygroup/base4kids2-ansible\"),\n",
       " Repository(full_name=\"adfinis-sygroup/ansible-role-repo_mirror\"),\n",
       " Repository(full_name=\"adfinis-sygroup/prometheus-architecture\"),\n",
       " Repository(full_name=\"adfinis-sygroup/docker-terraform-azure\"),\n",
       " Repository(full_name=\"adfinis-sygroup/potz-holzoepfel-und-zipfelchape\"),\n",
       " Repository(full_name=\"adfinis-sygroup/eslint-config\"),\n",
       " Repository(full_name=\"adfinis-sygroup/ansible-role-openshift_backup\"),\n",
       " Repository(full_name=\"adfinis-sygroup/ansible-role-isc_dhcp_server\"),\n",
       " Repository(full_name=\"adfinis-sygroup/ansible-role-passenger_nginx\"),\n",
       " Repository(full_name=\"adfinis-sygroup/base4kids2-sso\"),\n",
       " Repository(full_name=\"adfinis-sygroup/base4kids2-misc\"),\n",
       " Repository(full_name=\"adfinis-sygroup/ansible-role-icinga2_agent\"),\n",
       " Repository(full_name=\"adfinis-sygroup/postgres-eatmydata\"),\n",
       " Repository(full_name=\"adfinis-sygroup/ansible-role-icinga2_master\"),\n",
       " Repository(full_name=\"adfinis-sygroup/ansible-role-icinga2_web\"),\n",
       " Repository(full_name=\"adfinis-sygroup/ansible-role-icinga2_client\"),\n",
       " Repository(full_name=\"adfinis-sygroup/nginx-echo\"),\n",
       " Repository(full_name=\"adfinis-sygroup/apprentice-interview-tasks\"),\n",
       " Repository(full_name=\"adfinis-sygroup/leveldb-repairdb\"),\n",
       " Repository(full_name=\"adfinis-sygroup/base4kids2-ldap-schema\"),\n",
       " Repository(full_name=\"adfinis-sygroup/ansible-role-apache\"),\n",
       " Repository(full_name=\"adfinis-sygroup/vagrant-ubuntu18.04-box\"),\n",
       " Repository(full_name=\"adfinis-sygroup/vagrant-boxes\"),\n",
       " Repository(full_name=\"adfinis-sygroup/ansible-role-groups\"),\n",
       " Repository(full_name=\"adfinis-sygroup/ansible-role-java\"),\n",
       " Repository(full_name=\"adfinis-sygroup/github-terraform\"),\n",
       " Repository(full_name=\"adfinis-sygroup/document-merge-service\"),\n",
       " Repository(full_name=\"adfinis-sygroup/ansible-role-graphite\"),\n",
       " Repository(full_name=\"adfinis-sygroup/ansible-role-php_fpm\"),\n",
       " Repository(full_name=\"adfinis-sygroup/ansible-role-firewalld\"),\n",
       " Repository(full_name=\"adfinis-sygroup/ansible-role-gitlab_runner\"),\n",
       " Repository(full_name=\"adfinis-sygroup/terraform-aks\"),\n",
       " Repository(full_name=\"adfinis-sygroup/docker-thumbor-redis\"),\n",
       " Repository(full_name=\"adfinis-sygroup/landingpage-repo_mirror\"),\n",
       " Repository(full_name=\"adfinis-sygroup/base4kids2-keepalived-scripts\"),\n",
       " Repository(full_name=\"adfinis-sygroup/ansible-role-redis\"),\n",
       " Repository(full_name=\"adfinis-sygroup/389-directory-backup\"),\n",
       " Repository(full_name=\"adfinis-sygroup/terraform-azurerm-acr\"),\n",
       " Repository(full_name=\"adfinis-sygroup/mate-counter\"),\n",
       " Repository(full_name=\"adfinis-sygroup/libreoffice-templates\"),\n",
       " Repository(full_name=\"adfinis-sygroup/ember-document-merge-service\"),\n",
       " Repository(full_name=\"adfinis-sygroup/semantic-release-config\"),\n",
       " Repository(full_name=\"adfinis-sygroup/base4kids2-libreoffice-templates\"),\n",
       " Repository(full_name=\"adfinis-sygroup/terraform-flappy-module\"),\n",
       " Repository(full_name=\"adfinis-sygroup/muuvctl\"),\n",
       " Repository(full_name=\"adfinis-sygroup/ansible-role-epel\"),\n",
       " Repository(full_name=\"adfinis-sygroup/mattermost-user-deleter\"),\n",
       " Repository(full_name=\"adfinis-sygroup/nextcloud-user-deleter\"),\n",
       " Repository(full_name=\"adfinis-sygroup/openshift-csr-approver\"),\n",
       " Repository(full_name=\"adfinis-sygroup/terraform-azurerm-backupstorage\"),\n",
       " Repository(full_name=\"adfinis-sygroup/mattermost-channel-deleter\"),\n",
       " Repository(full_name=\"adfinis-sygroup/flappy-sez\"),\n",
       " Repository(full_name=\"adfinis-sygroup/johnny\"),\n",
       " Repository(full_name=\"adfinis-sygroup/dinacon-awards\"),\n",
       " Repository(full_name=\"adfinis-sygroup/helm-charts\"),\n",
       " Repository(full_name=\"adfinis-sygroup/openshift4-upgrade-path\"),\n",
       " Repository(full_name=\"adfinis-sygroup/terraform-vault-namespace\"),\n",
       " Repository(full_name=\"adfinis-sygroup/ansible-role-systemd_journald\"),\n",
       " Repository(full_name=\"adfinis-sygroup/back8sup\"),\n",
       " Repository(full_name=\"adfinis-sygroup/vault-raft-backup-agent\"),\n",
       " Repository(full_name=\"adfinis-sygroup/git-runstats\"),\n",
       " Repository(full_name=\"adfinis-sygroup/annotation-spec\"),\n",
       " Repository(full_name=\"adfinis-sygroup/jekyll-theme-adfinis\"),\n",
       " Repository(full_name=\"adfinis-sygroup/debug-container\")]"
      ]
     },
     "execution_count": 5,
     "metadata": {},
     "output_type": "execute_result"
    }
   ],
   "source": [
    "list(g.get_organization(adfinis[0]).get_repos())"
   ]
  },
  {
   "cell_type": "code",
   "execution_count": 6,
   "metadata": {},
   "outputs": [
    {
     "data": {
      "text/plain": [
       "[Repository(full_name=\"liip/okapi1_core\"),\n",
       " Repository(full_name=\"liip/Radios\"),\n",
       " Repository(full_name=\"liip/phonegap-plugins-system\"),\n",
       " Repository(full_name=\"liip/phonegap-plugins-audiostream\"),\n",
       " Repository(full_name=\"liip/niweaapp\"),\n",
       " Repository(full_name=\"liip/LiipMultiplexBundle\"),\n",
       " Repository(full_name=\"liip/LiipFunctionalTestBundle\"),\n",
       " Repository(full_name=\"liip/LiipXsltBundle\"),\n",
       " Repository(full_name=\"liip/sf2debpkg\"),\n",
       " Repository(full_name=\"liip/LiipTeraWurflBundle\"),\n",
       " Repository(full_name=\"liip/build-entropy-php\"),\n",
       " Repository(full_name=\"liip/ushahidi-plugins-mobile\"),\n",
       " Repository(full_name=\"liip/LiipHelloBundle\"),\n",
       " Repository(full_name=\"liip/php-osx\"),\n",
       " Repository(full_name=\"liip/packager\"),\n",
       " Repository(full_name=\"liip/LiipThemeBundle\"),\n",
       " Repository(full_name=\"liip/LiipContainerWrapperBundle\"),\n",
       " Repository(full_name=\"liip/LiipCacheControlBundle\"),\n",
       " Repository(full_name=\"liip/fe_variable\"),\n",
       " Repository(full_name=\"liip/fe_wysiwyg\"),\n",
       " Repository(full_name=\"liip/fe_variable_i18n\"),\n",
       " Repository(full_name=\"liip/LiipVieBundle\"),\n",
       " Repository(full_name=\"liip/Okapi\"),\n",
       " Repository(full_name=\"liip/mahararpmpkg\"),\n",
       " Repository(full_name=\"liip/LiipHyphenatorBundle\"),\n",
       " Repository(full_name=\"liip/LiipMagentoBundle\"),\n",
       " Repository(full_name=\"liip/LiipSearchBundle\"),\n",
       " Repository(full_name=\"liip/LiipImagineBundle\"),\n",
       " Repository(full_name=\"liip/LiipUrlAutoConverterBundle\"),\n",
       " Repository(full_name=\"liip/LiipDoctrineCacheBundle\"),\n",
       " Repository(full_name=\"liip/LiipProcessManager\"),\n",
       " Repository(full_name=\"liip/packaging\"),\n",
       " Repository(full_name=\"liip/packaging_demo\"),\n",
       " Repository(full_name=\"liip/backendproxy\"),\n",
       " Repository(full_name=\"liip/LiipCodeBundle\"),\n",
       " Repository(full_name=\"liip/LiipMonitorBundle\"),\n",
       " Repository(full_name=\"liip/liip-cookbooks\"),\n",
       " Repository(full_name=\"liip/MinkSelenium2Driver\"),\n",
       " Repository(full_name=\"liip/LiipDrupalConnectorModule\"),\n",
       " Repository(full_name=\"liip/taxi\"),\n",
       " Repository(full_name=\"liip/blog_liip_ch_posts\"),\n",
       " Repository(full_name=\"liip/VagrantDeductor\"),\n",
       " Repository(full_name=\"liip/barcode.js\"),\n",
       " Repository(full_name=\"liip/RMT\"),\n",
       " Repository(full_name=\"liip/Backbone.localStorageSync\"),\n",
       " Repository(full_name=\"liip/PHPCR-and-Magnolia\"),\n",
       " Repository(full_name=\"liip/OpenLayersOfflineDemo\"),\n",
       " Repository(full_name=\"liip/LiipMonitor\"),\n",
       " Repository(full_name=\"liip/LiipFormTranslationChoiceBundle\"),\n",
       " Repository(full_name=\"liip/commit-hook-email\"),\n",
       " Repository(full_name=\"liip/liip-magento-shared\"),\n",
       " Repository(full_name=\"liip/LiipSoapRecorderBundle\"),\n",
       " Repository(full_name=\"liip/magento-xhprof\"),\n",
       " Repository(full_name=\"liip/LiipFoxycartBundle\"),\n",
       " Repository(full_name=\"liip/LiipOneallBundle\"),\n",
       " Repository(full_name=\"liip/DataAggregator\"),\n",
       " Repository(full_name=\"liip/LiipDrupalEventManagerModule\"),\n",
       " Repository(full_name=\"liip/LiipDrupalRegistryModule\"),\n",
       " Repository(full_name=\"liip/LiipDataAggregatorBundle\"),\n",
       " Repository(full_name=\"liip/LiipDrupalTranslationModule\"),\n",
       " Repository(full_name=\"liip/elasticsearch-isalive\"),\n",
       " Repository(full_name=\"liip/LiipDrupalLess\"),\n",
       " Repository(full_name=\"liip/LiipDrushVersionManagerCommand\"),\n",
       " Repository(full_name=\"liip/LiipDrupalCrudAdminModule\"),\n",
       " Repository(full_name=\"liip/LiipRegistryAdaptor\"),\n",
       " Repository(full_name=\"liip/LiipGlobalBlockBundle\"),\n",
       " Repository(full_name=\"liip/LiipTranslationBundle\"),\n",
       " Repository(full_name=\"liip/presence\"),\n",
       " Repository(full_name=\"liip/move-freeflux\"),\n",
       " Repository(full_name=\"liip/limmatstrasse-183\"),\n",
       " Repository(full_name=\"liip/drupal-search_api_elasticsearch\"),\n",
       " Repository(full_name=\"liip/request.data\"),\n",
       " Repository(full_name=\"liip/fabliip\"),\n",
       " Repository(full_name=\"liip/fanci\"),\n",
       " Repository(full_name=\"liip/dockerbox\"),\n",
       " Repository(full_name=\"liip/dw-plugin-recaptcha\"),\n",
       " Repository(full_name=\"liip/ckan-vagrant\"),\n",
       " Repository(full_name=\"liip/drifter\"),\n",
       " Repository(full_name=\"liip/djangocms-template\"),\n",
       " Repository(full_name=\"liip/ckanext-ddi\"),\n",
       " Repository(full_name=\"liip/guess-the-liiper-ios\"),\n",
       " Repository(full_name=\"liip/coding-dojo-katas\"),\n",
       " Repository(full_name=\"liip/drupal-yellowcube-demo-shop\"),\n",
       " Repository(full_name=\"liip/django-template\"),\n",
       " Repository(full_name=\"liip/magento-config-search\"),\n",
       " Repository(full_name=\"liip/liip-aem\"),\n",
       " Repository(full_name=\"liip/magerant\"),\n",
       " Repository(full_name=\"liip/kanbasu\"),\n",
       " Repository(full_name=\"liip/DynamoDbTransformer\"),\n",
       " Repository(full_name=\"liip/thinkspace\"),\n",
       " Repository(full_name=\"liip/transport-falcor\"),\n",
       " Repository(full_name=\"liip/bower-lockfile-resolver\"),\n",
       " Repository(full_name=\"liip/SEO-keywords-generator\"),\n",
       " Repository(full_name=\"liip/bootstrap-accessibility-plugin\"),\n",
       " Repository(full_name=\"liip/TheA11yMachine\"),\n",
       " Repository(full_name=\"liip/woocommerce-demo\"),\n",
       " Repository(full_name=\"liip/bund-drupal-starterkit\"),\n",
       " Repository(full_name=\"liip/bund_drupal_starterkit_theme\"),\n",
       " Repository(full_name=\"liip/bund_drupal_starterkit_profile\"),\n",
       " Repository(full_name=\"liip/bund_drupal_starterkit_dummycontent\"),\n",
       " Repository(full_name=\"liip/wp-tyk-dev-portal\"),\n",
       " Repository(full_name=\"liip/solr-debify\"),\n",
       " Repository(full_name=\"liip/djangocms-local-navigation\"),\n",
       " Repository(full_name=\"liip/django-ansible\"),\n",
       " Repository(full_name=\"liip/LiipKit\"),\n",
       " Repository(full_name=\"liip/styleguide\"),\n",
       " Repository(full_name=\"liip/liip-gitlab-slack\"),\n",
       " Repository(full_name=\"liip/sheriff\"),\n",
       " Repository(full_name=\"liip/liip10yearsgame\"),\n",
       " Repository(full_name=\"liip/jira-cards-6\"),\n",
       " Repository(full_name=\"liip/html2kirby\"),\n",
       " Repository(full_name=\"liip/octobercms-setup\"),\n",
       " Repository(full_name=\"liip/styleguide-starterkit\"),\n",
       " Repository(full_name=\"liip/magento-order-email-jsonld\"),\n",
       " Repository(full_name=\"liip/oc-blocks-theme\"),\n",
       " Repository(full_name=\"liip/magento-order-by-sku\"),\n",
       " Repository(full_name=\"liip/shapefile-blog-example\"),\n",
       " Repository(full_name=\"liip/requests_gpgauthlib\"),\n",
       " Repository(full_name=\"liip/jira-api-to-google-apps\"),\n",
       " Repository(full_name=\"liip/wrench\"),\n",
       " Repository(full_name=\"liip/frctl-twig\"),\n",
       " Repository(full_name=\"liip/wp-docker-setup\"),\n",
       " Repository(full_name=\"liip/discourse-multilingual-support\"),\n",
       " Repository(full_name=\"liip/moodle-local_confseed\"),\n",
       " Repository(full_name=\"liip/portal-showcase\"),\n",
       " Repository(full_name=\"liip/LiipRokkaImagineBundle\"),\n",
       " Repository(full_name=\"liip/SweetPreferences\"),\n",
       " Repository(full_name=\"liip/roger-q\"),\n",
       " Repository(full_name=\"liip/moodle-local_courseduplication\"),\n",
       " Repository(full_name=\"liip/moodle-local_coursedeletion\"),\n",
       " Repository(full_name=\"liip/wp-docker\"),\n",
       " Repository(full_name=\"liip/kanbasu-vue\"),\n",
       " Repository(full_name=\"liip/PicShare\"),\n",
       " Repository(full_name=\"liip/metadata-parser\"),\n",
       " Repository(full_name=\"liip/serializer\"),\n",
       " Repository(full_name=\"liip/serializer-jms-adapter\"),\n",
       " Repository(full_name=\"liip/bootstrap-blocks-wordpress-plugin\"),\n",
       " Repository(full_name=\"liip/LiipTestFixturesBundle\"),\n",
       " Repository(full_name=\"liip/viewmodel-savedstate-helpers\"),\n",
       " Repository(full_name=\"liip/animate-blocks-wordpress-plugin\"),\n",
       " Repository(full_name=\"liip/extend-block-example-wp-plugin\"),\n",
       " Repository(full_name=\"liip/varnish-plus-cli\"),\n",
       " Repository(full_name=\"liip/wrapper-block-example-wp-plugin\"),\n",
       " Repository(full_name=\"liip/oc-user-plugin\"),\n",
       " Repository(full_name=\"liip/oc-cors-plugin\"),\n",
       " Repository(full_name=\"liip/jelasticli\"),\n",
       " Repository(full_name=\"liip/moodle-local_dbgc\"),\n",
       " Repository(full_name=\"liip/image-selector-example-wp-plugin\"),\n",
       " Repository(full_name=\"liip/pontsun\"),\n",
       " Repository(full_name=\"liip/pontsun-cli\"),\n",
       " Repository(full_name=\"liip/laravel-langman\"),\n",
       " Repository(full_name=\"liip/jelapi\"),\n",
       " Repository(full_name=\"liip/docker-ssl-keygen\"),\n",
       " Repository(full_name=\"liip/Sodium.Xamarin\"),\n",
       " Repository(full_name=\"liip/storybook-starterkit\"),\n",
       " Repository(full_name=\"liip/e2e-tests-example-wp-plugin\"),\n",
       " Repository(full_name=\"liip/parlaqui\"),\n",
       " Repository(full_name=\"liip/slack-infra\"),\n",
       " Repository(full_name=\"liip/smoke-detector\"),\n",
       " Repository(full_name=\"liip/chusho\"),\n",
       " Repository(full_name=\"liip/guess-the-liiper\"),\n",
       " Repository(full_name=\"liip/docker-ssh-agent\"),\n",
       " Repository(full_name=\"liip/docker-dnsmasq\"),\n",
       " Repository(full_name=\"liip/django-dot-pkce-example\"),\n",
       " Repository(full_name=\"liip/drupal_coder_enhancements\")]"
      ]
     },
     "execution_count": 6,
     "metadata": {},
     "output_type": "execute_result"
    }
   ],
   "source": [
    "list(g.get_organization(liip[0]).get_repos())"
   ]
  },
  {
   "cell_type": "code",
   "execution_count": 7,
   "metadata": {},
   "outputs": [
    {
     "data": {
      "text/plain": [
       "Repository(full_name=\"liip/slack-infra\")"
      ]
     },
     "execution_count": 7,
     "metadata": {},
     "output_type": "execute_result"
    }
   ],
   "source": [
    "repo = g.get_repo(\"liip/slack-infra\")\n",
    "repo"
   ]
  },
  {
   "cell_type": "code",
   "execution_count": 8,
   "metadata": {},
   "outputs": [
    {
     "data": {
      "text/plain": [
       "<github.Comparison.Comparison at 0x7f5dcc7af280>"
      ]
     },
     "execution_count": 8,
     "metadata": {},
     "output_type": "execute_result"
    }
   ],
   "source": [
    "comparison = repo.compare(\"master\", \"kubernetes-sigs:master\")\n",
    "comparison"
   ]
  },
  {
   "cell_type": "code",
   "execution_count": 9,
   "metadata": {},
   "outputs": [
    {
     "data": {
      "text/plain": [
       "0"
      ]
     },
     "execution_count": 9,
     "metadata": {},
     "output_type": "execute_result"
    }
   ],
   "source": [
    "comparison.behind_by"
   ]
  },
  {
   "cell_type": "code",
   "execution_count": 10,
   "metadata": {},
   "outputs": [
    {
     "data": {
      "text/plain": [
       "'kubernetes-sigs/slack-infra'"
      ]
     },
     "execution_count": 10,
     "metadata": {},
     "output_type": "execute_result"
    }
   ],
   "source": [
    "repo.parent.full_name"
   ]
  },
  {
   "cell_type": "code",
   "execution_count": 53,
   "metadata": {},
   "outputs": [
    {
     "data": {
      "text/plain": [
       "16"
      ]
     },
     "execution_count": 53,
     "metadata": {},
     "output_type": "execute_result"
    }
   ],
   "source": [
    "forked_repo = g.get_repo(\"liip/laravel-langman\")\n",
    "if test_repo.parent:\n",
    "    com = forked_repo.compare(test_repo.parent.owner.login + \":master\", \"master\")\n",
    "    \n",
    "com.ahead_by"
   ]
  },
  {
   "cell_type": "code",
   "execution_count": 43,
   "metadata": {},
   "outputs": [
    {
     "data": {
      "text/plain": [
       "Repository(full_name=\"liip/LiipImagineBundle\")"
      ]
     },
     "execution_count": 43,
     "metadata": {},
     "output_type": "execute_result"
    }
   ],
   "source": [
    "original_repo = g.get_repo(\"liip/LiipImagineBundle\")\n",
    "original_repo"
   ]
  },
  {
   "cell_type": "code",
   "execution_count": 44,
   "metadata": {},
   "outputs": [
    {
     "data": {
      "text/plain": [
       "604"
      ]
     },
     "execution_count": 44,
     "metadata": {},
     "output_type": "execute_result"
    }
   ],
   "source": [
    "original_repo.get_pulls(state=\"closed\").totalCount"
   ]
  },
  {
   "cell_type": "code",
   "execution_count": 56,
   "metadata": {},
   "outputs": [
    {
     "data": {
      "text/plain": [
       "'171,158'"
      ]
     },
     "execution_count": 56,
     "metadata": {},
     "output_type": "execute_result"
    }
   ],
   "source": [
    "str(forked_repo.size) + \",\" + str(forked_repo.parent.size)"
   ]
  },
  {
   "cell_type": "code",
   "execution_count": 57,
   "metadata": {},
   "outputs": [
    {
     "data": {
      "text/plain": [
       "0"
      ]
     },
     "execution_count": 57,
     "metadata": {},
     "output_type": "execute_result"
    }
   ],
   "source": [
    "forked_repo.get_issues(state=\"all\").totalCount"
   ]
  },
  {
   "cell_type": "code",
   "execution_count": 51,
   "metadata": {},
   "outputs": [
    {
     "data": {
      "text/plain": [
       "613"
      ]
     },
     "execution_count": 51,
     "metadata": {},
     "output_type": "execute_result"
    }
   ],
   "source": [
    "original_repo.get_pulls(state=\"all\").totalCount"
   ]
  },
  {
   "cell_type": "code",
   "execution_count": 58,
   "metadata": {},
   "outputs": [
    {
     "data": {
      "text/plain": [
       "1"
      ]
     },
     "execution_count": 58,
     "metadata": {},
     "output_type": "execute_result"
    }
   ],
   "source": [
    "forked_repo.watchers_count"
   ]
  },
  {
   "cell_type": "code",
   "execution_count": 60,
   "metadata": {},
   "outputs": [
    {
     "data": {
      "text/plain": [
       "0"
      ]
     },
     "execution_count": 60,
     "metadata": {},
     "output_type": "execute_result"
    }
   ],
   "source": [
    "forked_repo.subscribers_count"
   ]
  },
  {
   "cell_type": "code",
   "execution_count": 63,
   "metadata": {},
   "outputs": [
    {
     "data": {
      "text/plain": [
       "<github.StatsCommitActivity.StatsCommitActivity at 0x7f5dbd2d6340>"
      ]
     },
     "execution_count": 63,
     "metadata": {},
     "output_type": "execute_result"
    }
   ],
   "source": [
    "forked_repo.get_stats_commit_activity()[0]"
   ]
  },
  {
   "cell_type": "code",
   "execution_count": 13,
   "metadata": {},
   "outputs": [
    {
     "data": {
      "text/plain": [
       "[]"
      ]
     },
     "execution_count": 13,
     "metadata": {},
     "output_type": "execute_result"
    }
   ],
   "source": [
    "org = g.get_organization(\"PuzzleIT\")\n",
    "list(org.get_repos())"
   ]
  },
  {
   "cell_type": "code",
   "execution_count": 2,
   "metadata": {},
   "outputs": [
    {
     "ename": "BadCredentialsException",
     "evalue": "401 {\"message\": \"Bad credentials\", \"documentation_url\": \"https://docs.github.com/rest\"}",
     "output_type": "error",
     "traceback": [
      "\u001b[0;31m---------------------------------------------------------------------------\u001b[0m",
      "\u001b[0;31mBadCredentialsException\u001b[0m                   Traceback (most recent call last)",
      "\u001b[0;32m<ipython-input-2-de7ab9068554>\u001b[0m in \u001b[0;36m<module>\u001b[0;34m\u001b[0m\n\u001b[0;32m----> 1\u001b[0;31m \u001b[0mg\u001b[0m\u001b[0;34m.\u001b[0m\u001b[0mget_repo\u001b[0m\u001b[0;34m(\u001b[0m\u001b[0;34m\"ELCA/ansible\"\u001b[0m\u001b[0;34m)\u001b[0m\u001b[0;34m\u001b[0m\u001b[0;34m\u001b[0m\u001b[0m\n\u001b[0m",
      "\u001b[0;32m/opt/conda/lib/python3.8/site-packages/github/MainClass.py\u001b[0m in \u001b[0;36mget_repo\u001b[0;34m(self, full_name_or_id, lazy)\u001b[0m\n\u001b[1;32m    331\u001b[0m                 \u001b[0mself\u001b[0m\u001b[0;34m.\u001b[0m\u001b[0m__requester\u001b[0m\u001b[0;34m,\u001b[0m \u001b[0;34m{\u001b[0m\u001b[0;34m}\u001b[0m\u001b[0;34m,\u001b[0m \u001b[0;34m{\u001b[0m\u001b[0;34m\"url\"\u001b[0m\u001b[0;34m:\u001b[0m \u001b[0murl\u001b[0m\u001b[0;34m}\u001b[0m\u001b[0;34m,\u001b[0m \u001b[0mcompleted\u001b[0m\u001b[0;34m=\u001b[0m\u001b[0;32mFalse\u001b[0m\u001b[0;34m\u001b[0m\u001b[0;34m\u001b[0m\u001b[0m\n\u001b[1;32m    332\u001b[0m             )\n\u001b[0;32m--> 333\u001b[0;31m         headers, data = self.__requester.requestJsonAndCheck(\n\u001b[0m\u001b[1;32m    334\u001b[0m             \u001b[0;34m\"GET\"\u001b[0m\u001b[0;34m,\u001b[0m \u001b[0;34m\"%s%s\"\u001b[0m \u001b[0;34m%\u001b[0m \u001b[0;34m(\u001b[0m\u001b[0murl_base\u001b[0m\u001b[0;34m,\u001b[0m \u001b[0mfull_name_or_id\u001b[0m\u001b[0;34m)\u001b[0m\u001b[0;34m\u001b[0m\u001b[0;34m\u001b[0m\u001b[0m\n\u001b[1;32m    335\u001b[0m         )\n",
      "\u001b[0;32m/opt/conda/lib/python3.8/site-packages/github/Requester.py\u001b[0m in \u001b[0;36mrequestJsonAndCheck\u001b[0;34m(self, verb, url, parameters, headers, input)\u001b[0m\n\u001b[1;32m    315\u001b[0m \u001b[0;34m\u001b[0m\u001b[0m\n\u001b[1;32m    316\u001b[0m     \u001b[0;32mdef\u001b[0m \u001b[0mrequestJsonAndCheck\u001b[0m\u001b[0;34m(\u001b[0m\u001b[0mself\u001b[0m\u001b[0;34m,\u001b[0m \u001b[0mverb\u001b[0m\u001b[0;34m,\u001b[0m \u001b[0murl\u001b[0m\u001b[0;34m,\u001b[0m \u001b[0mparameters\u001b[0m\u001b[0;34m=\u001b[0m\u001b[0;32mNone\u001b[0m\u001b[0;34m,\u001b[0m \u001b[0mheaders\u001b[0m\u001b[0;34m=\u001b[0m\u001b[0;32mNone\u001b[0m\u001b[0;34m,\u001b[0m \u001b[0minput\u001b[0m\u001b[0;34m=\u001b[0m\u001b[0;32mNone\u001b[0m\u001b[0;34m)\u001b[0m\u001b[0;34m:\u001b[0m\u001b[0;34m\u001b[0m\u001b[0;34m\u001b[0m\u001b[0m\n\u001b[0;32m--> 317\u001b[0;31m         return self.__check(\n\u001b[0m\u001b[1;32m    318\u001b[0m             *self.requestJson(\n\u001b[1;32m    319\u001b[0m                 \u001b[0mverb\u001b[0m\u001b[0;34m,\u001b[0m \u001b[0murl\u001b[0m\u001b[0;34m,\u001b[0m \u001b[0mparameters\u001b[0m\u001b[0;34m,\u001b[0m \u001b[0mheaders\u001b[0m\u001b[0;34m,\u001b[0m \u001b[0minput\u001b[0m\u001b[0;34m,\u001b[0m \u001b[0mself\u001b[0m\u001b[0;34m.\u001b[0m\u001b[0m__customConnection\u001b[0m\u001b[0;34m(\u001b[0m\u001b[0murl\u001b[0m\u001b[0;34m)\u001b[0m\u001b[0;34m\u001b[0m\u001b[0;34m\u001b[0m\u001b[0m\n",
      "\u001b[0;32m/opt/conda/lib/python3.8/site-packages/github/Requester.py\u001b[0m in \u001b[0;36m__check\u001b[0;34m(self, status, responseHeaders, output)\u001b[0m\n\u001b[1;32m    340\u001b[0m         \u001b[0moutput\u001b[0m \u001b[0;34m=\u001b[0m \u001b[0mself\u001b[0m\u001b[0;34m.\u001b[0m\u001b[0m__structuredFromJson\u001b[0m\u001b[0;34m(\u001b[0m\u001b[0moutput\u001b[0m\u001b[0;34m)\u001b[0m\u001b[0;34m\u001b[0m\u001b[0;34m\u001b[0m\u001b[0m\n\u001b[1;32m    341\u001b[0m         \u001b[0;32mif\u001b[0m \u001b[0mstatus\u001b[0m \u001b[0;34m>=\u001b[0m \u001b[0;36m400\u001b[0m\u001b[0;34m:\u001b[0m\u001b[0;34m\u001b[0m\u001b[0;34m\u001b[0m\u001b[0m\n\u001b[0;32m--> 342\u001b[0;31m             \u001b[0;32mraise\u001b[0m \u001b[0mself\u001b[0m\u001b[0;34m.\u001b[0m\u001b[0m__createException\u001b[0m\u001b[0;34m(\u001b[0m\u001b[0mstatus\u001b[0m\u001b[0;34m,\u001b[0m \u001b[0mresponseHeaders\u001b[0m\u001b[0;34m,\u001b[0m \u001b[0moutput\u001b[0m\u001b[0;34m)\u001b[0m\u001b[0;34m\u001b[0m\u001b[0;34m\u001b[0m\u001b[0m\n\u001b[0m\u001b[1;32m    343\u001b[0m         \u001b[0;32mreturn\u001b[0m \u001b[0mresponseHeaders\u001b[0m\u001b[0;34m,\u001b[0m \u001b[0moutput\u001b[0m\u001b[0;34m\u001b[0m\u001b[0;34m\u001b[0m\u001b[0m\n\u001b[1;32m    344\u001b[0m \u001b[0;34m\u001b[0m\u001b[0m\n",
      "\u001b[0;31mBadCredentialsException\u001b[0m: 401 {\"message\": \"Bad credentials\", \"documentation_url\": \"https://docs.github.com/rest\"}"
     ]
    }
   ],
   "source": [
    "g.get_repo(\"ELCA/ansible\")"
   ]
  },
  {
   "cell_type": "code",
   "execution_count": 20,
   "metadata": {},
   "outputs": [
    {
     "data": {
      "text/plain": [
       "[Repository(full_name=\"4teamwork/ftw.manager\"),\n",
       " Repository(full_name=\"4teamwork/ftw.publisher.sender\"),\n",
       " Repository(full_name=\"4teamwork/ftw.publisher.receiver\"),\n",
       " Repository(full_name=\"4teamwork/ftw.publisher.core\"),\n",
       " Repository(full_name=\"4teamwork/ftw.table\"),\n",
       " Repository(full_name=\"4teamwork/ftw.publisher.example\"),\n",
       " Repository(full_name=\"4teamwork/ftw.publisher-example-buildout\"),\n",
       " Repository(full_name=\"4teamwork/collective.tinymceplugins.tooltip\"),\n",
       " Repository(full_name=\"4teamwork/collective.hashtags\"),\n",
       " Repository(full_name=\"4teamwork/ftw.pdfgenerator\"),\n",
       " Repository(full_name=\"4teamwork/ftw.upgrade\"),\n",
       " Repository(full_name=\"4teamwork/ftw.billboard\"),\n",
       " Repository(full_name=\"4teamwork/ftw.file\"),\n",
       " Repository(full_name=\"4teamwork/ftw.tabbedview\"),\n",
       " Repository(full_name=\"4teamwork/ftw.dictstorage\"),\n",
       " Repository(full_name=\"4teamwork/ftw.contentmenu\"),\n",
       " Repository(full_name=\"4teamwork/ftw.journal\"),\n",
       " Repository(full_name=\"4teamwork/ftw.blog\"),\n",
       " Repository(full_name=\"4teamwork/ftw.workspace\"),\n",
       " Repository(full_name=\"4teamwork/ftw.tagging\"),\n",
       " Repository(full_name=\"4teamwork/ftw.meeting\"),\n",
       " Repository(full_name=\"4teamwork/ftw.calendarwidget\"),\n",
       " Repository(full_name=\"4teamwork/ftw.notification.base\"),\n",
       " Repository(full_name=\"4teamwork/ftw.notification.email\"),\n",
       " Repository(full_name=\"4teamwork/ftw.keywordoverlay\"),\n",
       " Repository(full_name=\"4teamwork/ftw.usermanagement\"),\n",
       " Repository(full_name=\"4teamwork/ftw.favorite\"),\n",
       " Repository(full_name=\"4teamwork/ftw.poodle\"),\n",
       " Repository(full_name=\"4teamwork/ftw.participation\"),\n",
       " Repository(full_name=\"4teamwork/ftw.dashboard.dragndrop\"),\n",
       " Repository(full_name=\"4teamwork/ftw.dashboard.portlets.favourites\"),\n",
       " Repository(full_name=\"4teamwork/ftw.dashboard.portlets.postit\"),\n",
       " Repository(full_name=\"4teamwork/ftw.quota\"),\n",
       " Repository(full_name=\"4teamwork/ftw.dashboard.portlets.recentlymodified\"),\n",
       " Repository(full_name=\"4teamwork/izug.ticketbox\"),\n",
       " Repository(full_name=\"4teamwork/ftw.book\"),\n",
       " Repository(full_name=\"4teamwork/ftw.testing\"),\n",
       " Repository(full_name=\"4teamwork/collective.zopeedit\"),\n",
       " Repository(full_name=\"4teamwork/ftw.mopage\"),\n",
       " Repository(full_name=\"4teamwork/ftw.colorbox\"),\n",
       " Repository(full_name=\"4teamwork/collective.pfg.sqladapter\"),\n",
       " Repository(full_name=\"4teamwork/ftw.solr\"),\n",
       " Repository(full_name=\"4teamwork/ftw.portlet.clock\"),\n",
       " Repository(full_name=\"4teamwork/ftw.portlet.weather\"),\n",
       " Repository(full_name=\"4teamwork/ftw.recipe.deployment\"),\n",
       " Repository(full_name=\"4teamwork/ftw.tooltip\"),\n",
       " Repository(full_name=\"4teamwork/ftw.footballchallenge\"),\n",
       " Repository(full_name=\"4teamwork/ftw.bridge.proxy\"),\n",
       " Repository(full_name=\"4teamwork/ftw.bridge.client\"),\n",
       " Repository(full_name=\"4teamwork/ftw.permissionmanager\"),\n",
       " Repository(full_name=\"4teamwork/izug.basetheme\"),\n",
       " Repository(full_name=\"4teamwork/ftw-buildouts\"),\n",
       " Repository(full_name=\"4teamwork/plonetheme.emgame2012\"),\n",
       " Repository(full_name=\"4teamwork/project-buildout\"),\n",
       " Repository(full_name=\"4teamwork/pas.plugins.trustedproxyauth\"),\n",
       " Repository(full_name=\"4teamwork/ftw.sendmail\"),\n",
       " Repository(full_name=\"4teamwork/ftwbook.graphicblock\"),\n",
       " Repository(full_name=\"4teamwork/ftw.globalstatusmessage\"),\n",
       " Repository(full_name=\"4teamwork/ftw.task\"),\n",
       " Repository(full_name=\"4teamwork/ftw.simplelayout\"),\n",
       " Repository(full_name=\"4teamwork/ftw.publisher.mailreport\"),\n",
       " Repository(full_name=\"4teamwork/ftw.publisher.monitor\"),\n",
       " Repository(full_name=\"4teamwork/collective.js.extjs\"),\n",
       " Repository(full_name=\"4teamwork/collective.registry\"),\n",
       " Repository(full_name=\"4teamwork/ftw.wfreport\"),\n",
       " Repository(full_name=\"4teamwork/plone.app.content\"),\n",
       " Repository(full_name=\"4teamwork/collective.portlet.collectionmultiview\"),\n",
       " Repository(full_name=\"4teamwork/ftw.geo\"),\n",
       " Repository(full_name=\"4teamwork/collective.lastmodifier\"),\n",
       " Repository(full_name=\"4teamwork/ftw.dropdownmenu\"),\n",
       " Repository(full_name=\"4teamwork/ftw.cmissync\"),\n",
       " Repository(full_name=\"4teamwork/plonetheme.fourteamwork\"),\n",
       " Repository(full_name=\"4teamwork/simplelayout.base\"),\n",
       " Repository(full_name=\"4teamwork/simplelayout.portlet.dropzone\"),\n",
       " Repository(full_name=\"4teamwork/simplelayout.types.common\"),\n",
       " Repository(full_name=\"4teamwork/simplelayout.types.flowplayerblock\"),\n",
       " Repository(full_name=\"4teamwork/simplelayout.ui.base\"),\n",
       " Repository(full_name=\"4teamwork/simplelayout.ui.dragndrop\"),\n",
       " Repository(full_name=\"4teamwork/simplelayout.types.news\"),\n",
       " Repository(full_name=\"4teamwork/ftw.publisher.controlling\"),\n",
       " Repository(full_name=\"4teamwork/ftw.subsite\"),\n",
       " Repository(full_name=\"4teamwork/ftw.contentpage\"),\n",
       " Repository(full_name=\"4teamwork/ftw.contenttemplates\"),\n",
       " Repository(full_name=\"4teamwork/ftw.shop\"),\n",
       " Repository(full_name=\"4teamwork/ftw.statusmap\"),\n",
       " Repository(full_name=\"4teamwork/collective.deletepermission\"),\n",
       " Repository(full_name=\"4teamwork/ftw.inflator\"),\n",
       " Repository(full_name=\"4teamwork/ftw.topics\"),\n",
       " Repository(full_name=\"4teamwork/kgs\"),\n",
       " Repository(full_name=\"4teamwork/collective.editmodeswitcher\"),\n",
       " Repository(full_name=\"4teamwork/ftw.lawgiver\"),\n",
       " Repository(full_name=\"4teamwork/ftw.ech0039\"),\n",
       " Repository(full_name=\"4teamwork/ftw.mobilenavigation\"),\n",
       " Repository(full_name=\"4teamwork/egov.contactdirectory\"),\n",
       " Repository(full_name=\"4teamwork/opengever.core\"),\n",
       " Repository(full_name=\"4teamwork/ftwshop.simplelayout\"),\n",
       " Repository(full_name=\"4teamwork/tinymce\"),\n",
       " Repository(full_name=\"4teamwork/Products.TinyMCE\"),\n",
       " Repository(full_name=\"4teamwork/seantis.reservation\"),\n",
       " Repository(full_name=\"4teamwork/ftw.blueprints\"),\n",
       " Repository(full_name=\"4teamwork/ftw.mail\"),\n",
       " Repository(full_name=\"4teamwork/ftw.builder\"),\n",
       " Repository(full_name=\"4teamwork/ftw.footer\"),\n",
       " Repository(full_name=\"4teamwork/ftw.slider\"),\n",
       " Repository(full_name=\"4teamwork/activity_station_ruby\"),\n",
       " Repository(full_name=\"4teamwork/errbit-python\"),\n",
       " Repository(full_name=\"4teamwork/ftw.zipexport\"),\n",
       " Repository(full_name=\"4teamwork/ftw.testbrowser\"),\n",
       " Repository(full_name=\"4teamwork/ftw.calendar\"),\n",
       " Repository(full_name=\"4teamwork/ftw.tika\"),\n",
       " Repository(full_name=\"4teamwork/opengever.maintenance\"),\n",
       " Repository(full_name=\"4teamwork/ftw.usermigration\"),\n",
       " Repository(full_name=\"4teamwork/github_activity_station_proxy\"),\n",
       " Repository(full_name=\"4teamwork/ftw.caldav\"),\n",
       " Repository(full_name=\"4teamwork/opengever.ogds.models\"),\n",
       " Repository(full_name=\"4teamwork/ftw.calendarexport\"),\n",
       " Repository(full_name=\"4teamwork/ftw.avatar\"),\n",
       " Repository(full_name=\"4teamwork/ftw.recipe.translations\"),\n",
       " Repository(full_name=\"4teamwork/ftw.downloadtoken\"),\n",
       " Repository(full_name=\"4teamwork/ftw.datepicker\"),\n",
       " Repository(full_name=\"4teamwork/ftw.treeview\"),\n",
       " Repository(full_name=\"4teamwork/collective.jqcookie\"),\n",
       " Repository(full_name=\"4teamwork/opengever.mysqlconfig\"),\n",
       " Repository(full_name=\"4teamwork/ftw.maintenanceserver\"),\n",
       " Repository(full_name=\"4teamwork/ftw.recipe.checkversions\"),\n",
       " Repository(full_name=\"4teamwork/IPA_michel.weingart\"),\n",
       " Repository(full_name=\"4teamwork/ftw.labels\"),\n",
       " Repository(full_name=\"4teamwork/ftw.pdfify\"),\n",
       " Repository(full_name=\"4teamwork/ftw.activitystation\"),\n",
       " Repository(full_name=\"4teamwork/pdfify_celery\"),\n",
       " Repository(full_name=\"4teamwork/plonetheme.wmgame2014\"),\n",
       " Repository(full_name=\"4teamwork/netsight.windowsauthplugin\"),\n",
       " Repository(full_name=\"4teamwork/ftw.profilehook\"),\n",
       " Repository(full_name=\"4teamwork/omniauth-ftw-cas\"),\n",
       " Repository(full_name=\"4teamwork/ftw.activity\"),\n",
       " Repository(full_name=\"4teamwork/plone.app.imaging\"),\n",
       " Repository(full_name=\"4teamwork/ftw.crawler\"),\n",
       " Repository(full_name=\"4teamwork/grid-evaluation\"),\n",
       " Repository(full_name=\"4teamwork/simplelayout\"),\n",
       " Repository(full_name=\"4teamwork/biel.schule\"),\n",
       " Repository(full_name=\"4teamwork/ftw.saml2auth\"),\n",
       " Repository(full_name=\"4teamwork/plone-git-deployment\"),\n",
       " Repository(full_name=\"4teamwork/Zem\"),\n",
       " Repository(full_name=\"4teamwork/collective.polls\"),\n",
       " Repository(full_name=\"4teamwork/ftw.jsondump\"),\n",
       " Repository(full_name=\"4teamwork/ftw.theming\"),\n",
       " Repository(full_name=\"4teamwork/ftw.sliderblock\"),\n",
       " Repository(full_name=\"4teamwork/ftw.contentnav\"),\n",
       " Repository(full_name=\"4teamwork/ftw.news\"),\n",
       " Repository(full_name=\"4teamwork/ftw.contacts\"),\n",
       " Repository(full_name=\"4teamwork/collective.googleauthenticator\"),\n",
       " Repository(full_name=\"4teamwork/ftw.autofeature\"),\n",
       " Repository(full_name=\"4teamwork/buildout-solr-biel\"),\n",
       " Repository(full_name=\"4teamwork/Products.PloneFormGen\"),\n",
       " Repository(full_name=\"4teamwork/ftw.casauth\"),\n",
       " Repository(full_name=\"4teamwork/ftw.jsonapi\"),\n",
       " Repository(full_name=\"4teamwork/collective.solr\"),\n",
       " Repository(full_name=\"4teamwork/ftw.redirector\"),\n",
       " Repository(full_name=\"4teamwork/CASino\"),\n",
       " Repository(full_name=\"4teamwork/ftw.servicenavigation\"),\n",
       " Repository(full_name=\"4teamwork/ftw.glossary\"),\n",
       " Repository(full_name=\"4teamwork/restapidemo\"),\n",
       " Repository(full_name=\"4teamwork/omniauth-cas\"),\n",
       " Repository(full_name=\"4teamwork/ftw.openlayerhotfix\"),\n",
       " Repository(full_name=\"4teamwork/casino-ldap_authenticator\"),\n",
       " Repository(full_name=\"4teamwork/ftw.raven\"),\n",
       " Repository(full_name=\"4teamwork/bobtemplates.4teamwork\"),\n",
       " Repository(full_name=\"4teamwork/plonetheme.blueberry\"),\n",
       " Repository(full_name=\"4teamwork/gever-buildouts\"),\n",
       " Repository(full_name=\"4teamwork/ftw.flamegraph\"),\n",
       " Repository(full_name=\"4teamwork/ftw.events\"),\n",
       " Repository(full_name=\"4teamwork/ftw.htmlblock\"),\n",
       " Repository(full_name=\"4teamwork/ftw.showroom\"),\n",
       " Repository(full_name=\"4teamwork/ftw.mobile\"),\n",
       " Repository(full_name=\"4teamwork/ftw.iframeblock\"),\n",
       " Repository(full_name=\"4teamwork/ftw.collectionblock\"),\n",
       " Repository(full_name=\"4teamwork/ftw.addressblock\"),\n",
       " Repository(full_name=\"4teamwork/ftw.protectinactive\"),\n",
       " Repository(full_name=\"4teamwork/demoapps.web\"),\n",
       " Repository(full_name=\"4teamwork/pyScss\"),\n",
       " Repository(full_name=\"4teamwork/ftw.referencewidget\"),\n",
       " Repository(full_name=\"4teamwork/ftw.candlestick\"),\n",
       " Repository(full_name=\"4teamwork/ftw.copymovepatches\"),\n",
       " Repository(full_name=\"4teamwork/jsonbrowser\"),\n",
       " Repository(full_name=\"4teamwork/ftw.gopip\"),\n",
       " Repository(full_name=\"4teamwork/ftw.keywordwidget\"),\n",
       " Repository(full_name=\"4teamwork/supervisor-haproxy\"),\n",
       " Repository(full_name=\"4teamwork/ftw.chameleon\"),\n",
       " Repository(full_name=\"4teamwork/ubitpoc\"),\n",
       " Repository(full_name=\"4teamwork/uberzeit\"),\n",
       " Repository(full_name=\"4teamwork/ftw.xlsxsaveadapter\"),\n",
       " Repository(full_name=\"4teamwork/ftw.recipe.solr\"),\n",
       " Repository(full_name=\"4teamwork/Products.PloneLDAP\"),\n",
       " Repository(full_name=\"4teamwork/Products.PlonePAS\"),\n",
       " Repository(full_name=\"4teamwork/plone.app.workflow\"),\n",
       " Repository(full_name=\"4teamwork/omniauth-password\"),\n",
       " Repository(full_name=\"4teamwork/gever-ng\"),\n",
       " Repository(full_name=\"4teamwork/eventary\"),\n",
       " Repository(full_name=\"4teamwork/ftw.contentstats\"),\n",
       " Repository(full_name=\"4teamwork/hollow-elementtree\"),\n",
       " Repository(full_name=\"4teamwork/django-eventary\"),\n",
       " Repository(full_name=\"4teamwork/collective.geo.zugmap\"),\n",
       " Repository(full_name=\"4teamwork/ftw.structlog\"),\n",
       " Repository(full_name=\"4teamwork/ftw.iframefix\"),\n",
       " Repository(full_name=\"4teamwork/collective.z3cform.datagridfield\"),\n",
       " Repository(full_name=\"4teamwork/Products.LDAPMultiPlugins\"),\n",
       " Repository(full_name=\"4teamwork/Products.LDAPUserFolder\"),\n",
       " Repository(full_name=\"4teamwork/dockerfiles\"),\n",
       " Repository(full_name=\"4teamwork/pdfjs_viewer-rails\"),\n",
       " Repository(full_name=\"4teamwork/ftw.slacker\"),\n",
       " Repository(full_name=\"4teamwork/docxcompose\"),\n",
       " Repository(full_name=\"4teamwork/plone.restapi\"),\n",
       " Repository(full_name=\"4teamwork/ftw.zipextract\"),\n",
       " Repository(full_name=\"4teamwork/ftw.tokenauth\"),\n",
       " Repository(full_name=\"4teamwork/ftw.aare\"),\n",
       " Repository(full_name=\"4teamwork/django-git-deployment\"),\n",
       " Repository(full_name=\"4teamwork/ftw.logo\"),\n",
       " Repository(full_name=\"4teamwork/fido\"),\n",
       " Repository(full_name=\"4teamwork/userstories-material\"),\n",
       " Repository(full_name=\"4teamwork/grafana-telegraf-dashboard\"),\n",
       " Repository(full_name=\"4teamwork/ftw.trash\"),\n",
       " Repository(full_name=\"4teamwork/vue-cli-plugin-cypress-django-ori\"),\n",
       " Repository(full_name=\"4teamwork/ftw.faqblock\"),\n",
       " Repository(full_name=\"4teamwork/ftw.linkchecker\"),\n",
       " Repository(full_name=\"4teamwork/ftw.lunch_bob\"),\n",
       " Repository(full_name=\"4teamwork/ftw.deploy\"),\n",
       " Repository(full_name=\"4teamwork/cypress-drag-drop\"),\n",
       " Repository(full_name=\"4teamwork/ftw.gigu\"),\n",
       " Repository(full_name=\"4teamwork/ftw.monitor\"),\n",
       " Repository(full_name=\"4teamwork/vuetify-component-template\"),\n",
       " Repository(full_name=\"4teamwork/vue-confirm-destroy\"),\n",
       " Repository(full_name=\"4teamwork/vue-cli-plugin-cypress-django\"),\n",
       " Repository(full_name=\"4teamwork/vue-drop-zone\"),\n",
       " Repository(full_name=\"4teamwork/archetypes.multilingual\"),\n",
       " Repository(full_name=\"4teamwork/ftw.catalogdoctor\"),\n",
       " Repository(full_name=\"4teamwork/sentry-regressions\"),\n",
       " Repository(full_name=\"4teamwork/vue-cli-plugin-svg-icon\"),\n",
       " Repository(full_name=\"4teamwork/django-cas-server\"),\n",
       " Repository(full_name=\"4teamwork/ftw.py-tutorial\"),\n",
       " Repository(full_name=\"4teamwork/opengever.apiclient\"),\n",
       " Repository(full_name=\"4teamwork/django-pizza-uebung\"),\n",
       " Repository(full_name=\"4teamwork/ftw.whocando\"),\n",
       " Repository(full_name=\"4teamwork/apaxy.geo.ai\"),\n",
       " Repository(full_name=\"4teamwork/izug.refegovservice\"),\n",
       " Repository(full_name=\"4teamwork/eslint-config\"),\n",
       " Repository(full_name=\"4teamwork/prettier-config\"),\n",
       " Repository(full_name=\"4teamwork/ftw.uploadutility\"),\n",
       " Repository(full_name=\"4teamwork/seantis.plonetools\"),\n",
       " Repository(full_name=\"4teamwork/collective.clamav\"),\n",
       " Repository(full_name=\"4teamwork/ftw.noticeboard\"),\n",
       " Repository(full_name=\"4teamwork/ldapsync\"),\n",
       " Repository(full_name=\"4teamwork/ipa_demo.web\"),\n",
       " Repository(full_name=\"4teamwork/ftw.oidcauth\"),\n",
       " Repository(full_name=\"4teamwork/plone.app.registry\"),\n",
       " Repository(full_name=\"4teamwork/turtle-exercises\")]"
      ]
     },
     "execution_count": 20,
     "metadata": {},
     "output_type": "execute_result"
    }
   ],
   "source": [
    "list(g.get_organization(\"4teamwork\").get_repos())"
   ]
  },
  {
   "cell_type": "code",
   "execution_count": 5,
   "metadata": {},
   "outputs": [
    {
     "data": {
      "text/plain": [
       "1606234591"
      ]
     },
     "execution_count": 5,
     "metadata": {},
     "output_type": "execute_result"
    }
   ],
   "source": [
    "g.rate_limiting_resettime\n"
   ]
  },
  {
   "cell_type": "code",
   "execution_count": 6,
   "metadata": {},
   "outputs": [],
   "source": [
    "g=Github()\n",
    "repo = g.get_repo('liip/LiipImagineBundle')"
   ]
  },
  {
   "cell_type": "code",
   "execution_count": 10,
   "metadata": {},
   "outputs": [
    {
     "data": {
      "text/plain": [
       "72"
      ]
     },
     "execution_count": 10,
     "metadata": {},
     "output_type": "execute_result"
    }
   ],
   "source": [
    "comments = repo.get_comments()\n",
    "comments.totalCount"
   ]
  },
  {
   "cell_type": "code",
   "execution_count": 15,
   "metadata": {},
   "outputs": [
    {
     "data": {
      "text/plain": [
       "1666"
      ]
     },
     "execution_count": 15,
     "metadata": {},
     "output_type": "execute_result"
    }
   ],
   "source": [
    "commits = repo.get_commits()\n",
    "commits.totalCount"
   ]
  },
  {
   "cell_type": "code",
   "execution_count": 16,
   "metadata": {},
   "outputs": [
    {
     "data": {
      "text/plain": [
       "171"
      ]
     },
     "execution_count": 16,
     "metadata": {},
     "output_type": "execute_result"
    }
   ],
   "source": [
    "repo.get_contributors().totalCount"
   ]
  },
  {
   "cell_type": "code",
   "execution_count": 19,
   "metadata": {},
   "outputs": [
    {
     "data": {
      "text/plain": [
       "100"
      ]
     },
     "execution_count": 19,
     "metadata": {},
     "output_type": "execute_result"
    }
   ],
   "source": [
    "len(repo.get_stats_contributors())"
   ]
  },
  {
   "cell_type": "code",
   "execution_count": 20,
   "metadata": {},
   "outputs": [],
   "source": [
    "org = g.get_organization(\"4teamwork\")"
   ]
  },
  {
   "cell_type": "code",
   "execution_count": 22,
   "metadata": {},
   "outputs": [
    {
     "data": {
      "text/plain": [
       "'https://github.com/4teamwork'"
      ]
     },
     "execution_count": 22,
     "metadata": {},
     "output_type": "execute_result"
    }
   ],
   "source": [
    "org.html_url"
   ]
  },
  {
   "cell_type": "code",
   "execution_count": 24,
   "metadata": {},
   "outputs": [],
   "source": [
    "commit_activities = repo.get_stats_commit_activity()"
   ]
  },
  {
   "cell_type": "code",
   "execution_count": 27,
   "metadata": {},
   "outputs": [
    {
     "name": "stdout",
     "output_type": "stream",
     "text": [
      "<github.StatsCommitActivity.StatsCommitActivity object at 0x7f5b4e8bcac0>\n",
      "<github.StatsCommitActivity.StatsCommitActivity object at 0x7f5b4e769100>\n",
      "<github.StatsCommitActivity.StatsCommitActivity object at 0x7f5b4aa1df40>\n",
      "<github.StatsCommitActivity.StatsCommitActivity object at 0x7f5b4a719bb0>\n",
      "<github.StatsCommitActivity.StatsCommitActivity object at 0x7f5b4a719880>\n",
      "<github.StatsCommitActivity.StatsCommitActivity object at 0x7f5b4a7198b0>\n",
      "<github.StatsCommitActivity.StatsCommitActivity object at 0x7f5b4a719730>\n",
      "<github.StatsCommitActivity.StatsCommitActivity object at 0x7f5b4a719550>\n",
      "<github.StatsCommitActivity.StatsCommitActivity object at 0x7f5b4a7193d0>\n",
      "<github.StatsCommitActivity.StatsCommitActivity object at 0x7f5b4a719250>\n",
      "<github.StatsCommitActivity.StatsCommitActivity object at 0x7f5b4a7190d0>\n",
      "<github.StatsCommitActivity.StatsCommitActivity object at 0x7f5b4a71f0d0>\n",
      "<github.StatsCommitActivity.StatsCommitActivity object at 0x7f5b4a71f250>\n",
      "<github.StatsCommitActivity.StatsCommitActivity object at 0x7f5b4a71f3d0>\n",
      "<github.StatsCommitActivity.StatsCommitActivity object at 0x7f5b4a71f550>\n",
      "<github.StatsCommitActivity.StatsCommitActivity object at 0x7f5b4a71f6d0>\n",
      "<github.StatsCommitActivity.StatsCommitActivity object at 0x7f5b4a71f850>\n",
      "<github.StatsCommitActivity.StatsCommitActivity object at 0x7f5b4a71f9d0>\n",
      "<github.StatsCommitActivity.StatsCommitActivity object at 0x7f5b4a71fbb0>\n",
      "<github.StatsCommitActivity.StatsCommitActivity object at 0x7f5b4a71fd30>\n",
      "<github.StatsCommitActivity.StatsCommitActivity object at 0x7f5b4a71feb0>\n",
      "<github.StatsCommitActivity.StatsCommitActivity object at 0x7f5b4a71ffd0>\n",
      "<github.StatsCommitActivity.StatsCommitActivity object at 0x7f5b4a6f31f0>\n",
      "<github.StatsCommitActivity.StatsCommitActivity object at 0x7f5b4a6f3370>\n",
      "<github.StatsCommitActivity.StatsCommitActivity object at 0x7f5b4a6f34f0>\n",
      "<github.StatsCommitActivity.StatsCommitActivity object at 0x7f5b4a6f3670>\n",
      "<github.StatsCommitActivity.StatsCommitActivity object at 0x7f5b4a6f37f0>\n",
      "<github.StatsCommitActivity.StatsCommitActivity object at 0x7f5b4a6f3970>\n",
      "<github.StatsCommitActivity.StatsCommitActivity object at 0x7f5b4a6f3af0>\n",
      "<github.StatsCommitActivity.StatsCommitActivity object at 0x7f5b4a6f3c70>\n",
      "<github.StatsCommitActivity.StatsCommitActivity object at 0x7f5b4a6f3df0>\n",
      "<github.StatsCommitActivity.StatsCommitActivity object at 0x7f5b4a6f3f70>\n",
      "<github.StatsCommitActivity.StatsCommitActivity object at 0x7f5b4a6f2130>\n",
      "<github.StatsCommitActivity.StatsCommitActivity object at 0x7f5b4a6f22b0>\n",
      "<github.StatsCommitActivity.StatsCommitActivity object at 0x7f5b4a6f2430>\n",
      "<github.StatsCommitActivity.StatsCommitActivity object at 0x7f5b4a6f25b0>\n",
      "<github.StatsCommitActivity.StatsCommitActivity object at 0x7f5b4a6f2730>\n",
      "<github.StatsCommitActivity.StatsCommitActivity object at 0x7f5b4a6f28b0>\n",
      "<github.StatsCommitActivity.StatsCommitActivity object at 0x7f5b4a6f2a30>\n",
      "<github.StatsCommitActivity.StatsCommitActivity object at 0x7f5b4a6f2bb0>\n",
      "<github.StatsCommitActivity.StatsCommitActivity object at 0x7f5b4a6f2d30>\n",
      "<github.StatsCommitActivity.StatsCommitActivity object at 0x7f5b4a6f2eb0>\n",
      "<github.StatsCommitActivity.StatsCommitActivity object at 0x7f5b4a6f2fd0>\n",
      "<github.StatsCommitActivity.StatsCommitActivity object at 0x7f5b4a8051f0>\n",
      "<github.StatsCommitActivity.StatsCommitActivity object at 0x7f5b4a805370>\n",
      "<github.StatsCommitActivity.StatsCommitActivity object at 0x7f5b4a8054f0>\n",
      "<github.StatsCommitActivity.StatsCommitActivity object at 0x7f5b4a805670>\n",
      "<github.StatsCommitActivity.StatsCommitActivity object at 0x7f5b4a8057f0>\n",
      "<github.StatsCommitActivity.StatsCommitActivity object at 0x7f5b4a805970>\n",
      "<github.StatsCommitActivity.StatsCommitActivity object at 0x7f5b4a805af0>\n",
      "<github.StatsCommitActivity.StatsCommitActivity object at 0x7f5b4a805c70>\n",
      "<github.StatsCommitActivity.StatsCommitActivity object at 0x7f5b4a805df0>\n"
     ]
    }
   ],
   "source": [
    "for a in commit_activities:\n",
    "    print(a)"
   ]
  },
  {
   "cell_type": "code",
   "execution_count": 36,
   "metadata": {},
   "outputs": [
    {
     "data": {
      "text/plain": [
       "{'date': 'Thu, 26 Nov 2020 03:24:03 GMT',\n",
       " 'content-type': 'application/json; charset=utf-8',\n",
       " 'server': 'GitHub.com',\n",
       " 'status': '200 OK',\n",
       " 'cache-control': 'public, max-age=60, s-maxage=60',\n",
       " 'vary': 'Accept, Accept-Encoding, Accept, X-Requested-With, Accept-Encoding',\n",
       " 'etag': 'W/\"d813982c9bd45221d2761cdaea10590bb275f460981b3e94eb9c173b02013c6e\"',\n",
       " 'x-github-media-type': 'github.v3; format=json',\n",
       " 'access-control-expose-headers': 'ETag, Link, Location, Retry-After, X-GitHub-OTP, X-RateLimit-Limit, X-RateLimit-Remaining, X-RateLimit-Used, X-RateLimit-Reset, X-OAuth-Scopes, X-Accepted-OAuth-Scopes, X-Poll-Interval, X-GitHub-Media-Type, Deprecation, Sunset',\n",
       " 'access-control-allow-origin': '*',\n",
       " 'strict-transport-security': 'max-age=31536000; includeSubdomains; preload',\n",
       " 'x-frame-options': 'deny',\n",
       " 'x-content-type-options': 'nosniff',\n",
       " 'x-xss-protection': '1; mode=block',\n",
       " 'referrer-policy': 'origin-when-cross-origin, strict-origin-when-cross-origin',\n",
       " 'content-security-policy': \"default-src 'none'\",\n",
       " 'content-encoding': 'gzip',\n",
       " 'x-ratelimit-limit': '60',\n",
       " 'x-ratelimit-remaining': '58',\n",
       " 'x-ratelimit-reset': '1606364642',\n",
       " 'x-ratelimit-used': '2',\n",
       " 'accept-ranges': 'bytes',\n",
       " 'content-length': '507',\n",
       " 'x-github-request-id': '2E3F:F168:1E6B27F:23444DA:5FBF1FD3'}"
      ]
     },
     "execution_count": 36,
     "metadata": {},
     "output_type": "execute_result"
    }
   ],
   "source": [
    "a.raw_data"
   ]
  },
  {
   "cell_type": "code",
   "execution_count": 41,
   "metadata": {},
   "outputs": [
    {
     "data": {
      "text/plain": [
       "[{'total': 0, 'week': 1575158400, 'days': [0, 0, 0, 0, 0, 0, 0]},\n",
       " {'total': 1, 'week': 1575763200, 'days': [0, 1, 0, 0, 0, 0, 0]},\n",
       " {'total': 0, 'week': 1576368000, 'days': [0, 0, 0, 0, 0, 0, 0]},\n",
       " {'total': 2, 'week': 1576972800, 'days': [1, 0, 0, 0, 0, 0, 1]},\n",
       " {'total': 12, 'week': 1577577600, 'days': [1, 10, 1, 0, 0, 0, 0]},\n",
       " {'total': 7, 'week': 1578182400, 'days': [0, 7, 0, 0, 0, 0, 0]},\n",
       " {'total': 0, 'week': 1578787200, 'days': [0, 0, 0, 0, 0, 0, 0]},\n",
       " {'total': 1, 'week': 1579392000, 'days': [0, 0, 0, 0, 1, 0, 0]},\n",
       " {'total': 1, 'week': 1579996800, 'days': [0, 1, 0, 0, 0, 0, 0]},\n",
       " {'total': 0, 'week': 1580601600, 'days': [0, 0, 0, 0, 0, 0, 0]},\n",
       " {'total': 1, 'week': 1581206400, 'days': [0, 0, 0, 0, 1, 0, 0]},\n",
       " {'total': 0, 'week': 1581811200, 'days': [0, 0, 0, 0, 0, 0, 0]},\n",
       " {'total': 0, 'week': 1582416000, 'days': [0, 0, 0, 0, 0, 0, 0]},\n",
       " {'total': 2, 'week': 1583020800, 'days': [0, 0, 0, 0, 0, 2, 0]},\n",
       " {'total': 0, 'week': 1583625600, 'days': [0, 0, 0, 0, 0, 0, 0]},\n",
       " {'total': 0, 'week': 1584230400, 'days': [0, 0, 0, 0, 0, 0, 0]},\n",
       " {'total': 2, 'week': 1584835200, 'days': [0, 0, 0, 2, 0, 0, 0]},\n",
       " {'total': 0, 'week': 1585440000, 'days': [0, 0, 0, 0, 0, 0, 0]},\n",
       " {'total': 0, 'week': 1586044800, 'days': [0, 0, 0, 0, 0, 0, 0]},\n",
       " {'total': 1, 'week': 1586649600, 'days': [0, 1, 0, 0, 0, 0, 0]},\n",
       " {'total': 1, 'week': 1587254400, 'days': [0, 0, 0, 0, 0, 1, 0]},\n",
       " {'total': 0, 'week': 1587859200, 'days': [0, 0, 0, 0, 0, 0, 0]},\n",
       " {'total': 1, 'week': 1588464000, 'days': [0, 0, 0, 0, 1, 0, 0]},\n",
       " {'total': 0, 'week': 1589068800, 'days': [0, 0, 0, 0, 0, 0, 0]},\n",
       " {'total': 0, 'week': 1589673600, 'days': [0, 0, 0, 0, 0, 0, 0]},\n",
       " {'total': 0, 'week': 1590278400, 'days': [0, 0, 0, 0, 0, 0, 0]},\n",
       " {'total': 0, 'week': 1590883200, 'days': [0, 0, 0, 0, 0, 0, 0]},\n",
       " {'total': 0, 'week': 1591488000, 'days': [0, 0, 0, 0, 0, 0, 0]},\n",
       " {'total': 0, 'week': 1592092800, 'days': [0, 0, 0, 0, 0, 0, 0]},\n",
       " {'total': 3, 'week': 1592697600, 'days': [0, 0, 0, 0, 2, 1, 0]},\n",
       " {'total': 0, 'week': 1593302400, 'days': [0, 0, 0, 0, 0, 0, 0]},\n",
       " {'total': 0, 'week': 1593907200, 'days': [0, 0, 0, 0, 0, 0, 0]},\n",
       " {'total': 0, 'week': 1594512000, 'days': [0, 0, 0, 0, 0, 0, 0]},\n",
       " {'total': 0, 'week': 1595116800, 'days': [0, 0, 0, 0, 0, 0, 0]},\n",
       " {'total': 0, 'week': 1595721600, 'days': [0, 0, 0, 0, 0, 0, 0]},\n",
       " {'total': 0, 'week': 1596326400, 'days': [0, 0, 0, 0, 0, 0, 0]},\n",
       " {'total': 1, 'week': 1596931200, 'days': [0, 0, 1, 0, 0, 0, 0]},\n",
       " {'total': 0, 'week': 1597536000, 'days': [0, 0, 0, 0, 0, 0, 0]},\n",
       " {'total': 0, 'week': 1598140800, 'days': [0, 0, 0, 0, 0, 0, 0]},\n",
       " {'total': 0, 'week': 1598745600, 'days': [0, 0, 0, 0, 0, 0, 0]},\n",
       " {'total': 0, 'week': 1599350400, 'days': [0, 0, 0, 0, 0, 0, 0]},\n",
       " {'total': 2, 'week': 1599955200, 'days': [0, 0, 0, 2, 0, 0, 0]},\n",
       " {'total': 0, 'week': 1600560000, 'days': [0, 0, 0, 0, 0, 0, 0]},\n",
       " {'total': 1, 'week': 1601164800, 'days': [0, 0, 0, 1, 0, 0, 0]},\n",
       " {'total': 0, 'week': 1601769600, 'days': [0, 0, 0, 0, 0, 0, 0]},\n",
       " {'total': 0, 'week': 1602374400, 'days': [0, 0, 0, 0, 0, 0, 0]},\n",
       " {'total': 0, 'week': 1602979200, 'days': [0, 0, 0, 0, 0, 0, 0]},\n",
       " {'total': 2, 'week': 1603584000, 'days': [0, 0, 2, 0, 0, 0, 0]},\n",
       " {'total': 1, 'week': 1604188800, 'days': [0, 0, 0, 1, 0, 0, 0]},\n",
       " {'total': 6, 'week': 1604793600, 'days': [0, 0, 0, 0, 6, 0, 0]},\n",
       " {'total': 6, 'week': 1605398400, 'days': [0, 2, 0, 0, 4, 0, 0]},\n",
       " {'total': 3, 'week': 1606003200, 'days': [0, 1, 2, 0, 0, 0, 0]}]"
      ]
     },
     "execution_count": 41,
     "metadata": {},
     "output_type": "execute_result"
    }
   ],
   "source": [
    "[ c.raw_data for c in commit_activities]"
   ]
  },
  {
   "cell_type": "code",
   "execution_count": 40,
   "metadata": {},
   "outputs": [
    {
     "data": {
      "text/plain": [
       "[{'total': 0, 'week': 1575158400, 'days': [0, 0, 0, 0, 0, 0, 0]},\n",
       " {'total': 1, 'week': 1575763200, 'days': [0, 1, 0, 0, 0, 0, 0]},\n",
       " {'total': 0, 'week': 1576368000, 'days': [0, 0, 0, 0, 0, 0, 0]},\n",
       " {'total': 2, 'week': 1576972800, 'days': [1, 0, 0, 0, 0, 0, 1]},\n",
       " {'total': 12, 'week': 1577577600, 'days': [1, 10, 1, 0, 0, 0, 0]},\n",
       " {'total': 7, 'week': 1578182400, 'days': [0, 7, 0, 0, 0, 0, 0]},\n",
       " {'total': 0, 'week': 1578787200, 'days': [0, 0, 0, 0, 0, 0, 0]},\n",
       " {'total': 1, 'week': 1579392000, 'days': [0, 0, 0, 0, 1, 0, 0]},\n",
       " {'total': 1, 'week': 1579996800, 'days': [0, 1, 0, 0, 0, 0, 0]},\n",
       " {'total': 0, 'week': 1580601600, 'days': [0, 0, 0, 0, 0, 0, 0]},\n",
       " {'total': 1, 'week': 1581206400, 'days': [0, 0, 0, 0, 1, 0, 0]},\n",
       " {'total': 0, 'week': 1581811200, 'days': [0, 0, 0, 0, 0, 0, 0]},\n",
       " {'total': 0, 'week': 1582416000, 'days': [0, 0, 0, 0, 0, 0, 0]},\n",
       " {'total': 2, 'week': 1583020800, 'days': [0, 0, 0, 0, 0, 2, 0]},\n",
       " {'total': 0, 'week': 1583625600, 'days': [0, 0, 0, 0, 0, 0, 0]},\n",
       " {'total': 0, 'week': 1584230400, 'days': [0, 0, 0, 0, 0, 0, 0]},\n",
       " {'total': 2, 'week': 1584835200, 'days': [0, 0, 0, 2, 0, 0, 0]},\n",
       " {'total': 0, 'week': 1585440000, 'days': [0, 0, 0, 0, 0, 0, 0]},\n",
       " {'total': 0, 'week': 1586044800, 'days': [0, 0, 0, 0, 0, 0, 0]},\n",
       " {'total': 1, 'week': 1586649600, 'days': [0, 1, 0, 0, 0, 0, 0]},\n",
       " {'total': 1, 'week': 1587254400, 'days': [0, 0, 0, 0, 0, 1, 0]},\n",
       " {'total': 0, 'week': 1587859200, 'days': [0, 0, 0, 0, 0, 0, 0]},\n",
       " {'total': 1, 'week': 1588464000, 'days': [0, 0, 0, 0, 1, 0, 0]},\n",
       " {'total': 0, 'week': 1589068800, 'days': [0, 0, 0, 0, 0, 0, 0]},\n",
       " {'total': 0, 'week': 1589673600, 'days': [0, 0, 0, 0, 0, 0, 0]},\n",
       " {'total': 0, 'week': 1590278400, 'days': [0, 0, 0, 0, 0, 0, 0]},\n",
       " {'total': 0, 'week': 1590883200, 'days': [0, 0, 0, 0, 0, 0, 0]},\n",
       " {'total': 0, 'week': 1591488000, 'days': [0, 0, 0, 0, 0, 0, 0]},\n",
       " {'total': 0, 'week': 1592092800, 'days': [0, 0, 0, 0, 0, 0, 0]},\n",
       " {'total': 3, 'week': 1592697600, 'days': [0, 0, 0, 0, 2, 1, 0]},\n",
       " {'total': 0, 'week': 1593302400, 'days': [0, 0, 0, 0, 0, 0, 0]},\n",
       " {'total': 0, 'week': 1593907200, 'days': [0, 0, 0, 0, 0, 0, 0]},\n",
       " {'total': 0, 'week': 1594512000, 'days': [0, 0, 0, 0, 0, 0, 0]},\n",
       " {'total': 0, 'week': 1595116800, 'days': [0, 0, 0, 0, 0, 0, 0]},\n",
       " {'total': 0, 'week': 1595721600, 'days': [0, 0, 0, 0, 0, 0, 0]},\n",
       " {'total': 0, 'week': 1596326400, 'days': [0, 0, 0, 0, 0, 0, 0]},\n",
       " {'total': 1, 'week': 1596931200, 'days': [0, 0, 1, 0, 0, 0, 0]},\n",
       " {'total': 0, 'week': 1597536000, 'days': [0, 0, 0, 0, 0, 0, 0]},\n",
       " {'total': 0, 'week': 1598140800, 'days': [0, 0, 0, 0, 0, 0, 0]},\n",
       " {'total': 0, 'week': 1598745600, 'days': [0, 0, 0, 0, 0, 0, 0]},\n",
       " {'total': 0, 'week': 1599350400, 'days': [0, 0, 0, 0, 0, 0, 0]},\n",
       " {'total': 2, 'week': 1599955200, 'days': [0, 0, 0, 2, 0, 0, 0]},\n",
       " {'total': 0, 'week': 1600560000, 'days': [0, 0, 0, 0, 0, 0, 0]},\n",
       " {'total': 1, 'week': 1601164800, 'days': [0, 0, 0, 1, 0, 0, 0]},\n",
       " {'total': 0, 'week': 1601769600, 'days': [0, 0, 0, 0, 0, 0, 0]},\n",
       " {'total': 0, 'week': 1602374400, 'days': [0, 0, 0, 0, 0, 0, 0]},\n",
       " {'total': 0, 'week': 1602979200, 'days': [0, 0, 0, 0, 0, 0, 0]},\n",
       " {'total': 2, 'week': 1603584000, 'days': [0, 0, 2, 0, 0, 0, 0]},\n",
       " {'total': 1, 'week': 1604188800, 'days': [0, 0, 0, 1, 0, 0, 0]},\n",
       " {'total': 6, 'week': 1604793600, 'days': [0, 0, 0, 0, 6, 0, 0]},\n",
       " {'total': 6, 'week': 1605398400, 'days': [0, 2, 0, 0, 4, 0, 0]},\n",
       " {'total': 3, 'week': 1606003200, 'days': [0, 1, 2, 0, 0, 0, 0]}]"
      ]
     },
     "execution_count": 40,
     "metadata": {},
     "output_type": "execute_result"
    }
   ],
   "source": [
    "import requests\n",
    "requests.get(repo.url+'/stats/commit_activity').json()"
   ]
  },
  {
   "cell_type": "code",
   "execution_count": null,
   "metadata": {},
   "outputs": [],
   "source": []
  }
 ],
 "metadata": {
  "kernelspec": {
   "display_name": "Python 3",
   "language": "python",
   "name": "python3"
  },
  "language_info": {
   "codemirror_mode": {
    "name": "ipython",
    "version": 3
   },
   "file_extension": ".py",
   "mimetype": "text/x-python",
   "name": "python",
   "nbconvert_exporter": "python",
   "pygments_lexer": "ipython3",
   "version": "3.8.6"
  }
 },
 "nbformat": 4,
 "nbformat_minor": 4
}
