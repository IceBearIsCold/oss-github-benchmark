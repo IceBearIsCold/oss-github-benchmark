{
 "cells": [
  {
   "cell_type": "code",
   "execution_count": 2,
   "metadata": {},
   "outputs": [],
   "source": [
    "import json\n",
    "import csv\n",
    "import os\n",
    "from github import Github\n",
    "\n",
    "# GitHub Login mittels Token\n",
    "g = Github(os.environ['GITHUBTOKEN'])\n",
    "\n",
    "# JSON Daten laden, Variablen setzen\n",
    "with open('github_repos.json', encoding='utf-8') as file:\n",
    "    githubrepos = json.load(file)\n",
    "institutions_data = []\n",
    "counter = 0\n",
    "sector = \"\""
   ]
  },
  {
   "cell_type": "code",
   "execution_count": 3,
   "metadata": {
    "scrolled": true
   },
   "outputs": [
    {
     "data": {
      "text/plain": [
       "[{'name': '4teamwork AG', 'orgs': ['4teamwork']},\n",
       " {'name': '56K Cloud', 'orgs': ['56kcloud']},\n",
       " {'name': 'Adfinis SyGroup', 'orgs': ['adfinis-sygroup', 'adfinis-forks']},\n",
       " {'name': 'AdNovum Informatik AG', 'orgs': ['adnovum']},\n",
       " {'name': 'Abraxas', 'orgs': ['abraxas-labs']},\n",
       " {'name': 'amazee.io', 'orgs': ['amazeeio']},\n",
       " {'name': 'Bedag', 'orgs': ['bedag']},\n",
       " {'name': 'BSI Business Systems Integration AG',\n",
       "  'orgs': ['BSI-Business-Systems-Integration-AG']},\n",
       " {'name': 'Camptocamp', 'orgs': ['camptocamp']},\n",
       " {'name': 'cloudscale.ch AG', 'orgs': ['cloudscale-ch']},\n",
       " {'name': 'cyon GmbH', 'orgs': ['cyon']},\n",
       " {'name': 'DV Bern', 'orgs': ['dvbern']},\n",
       " {'name': 'ELCA', 'orgs': ['ElcaIT']},\n",
       " {'name': 'Exoscale', 'orgs': ['exoscale']},\n",
       " {'name': 'iSolutions', 'orgs': ['isolutionsag']},\n",
       " {'name': 'Interactive Things', 'orgs': ['interactivethings']},\n",
       " {'name': 'ITIGO AG', 'orgs': ['itigoag']},\n",
       " {'name': 'Garaio', 'orgs': ['garaio']},\n",
       " {'name': 'gyselroth', 'orgs': ['gyselroth']},\n",
       " {'name': 'Liip', 'orgs': ['liip', 'liip-forks']},\n",
       " {'name': 'mimacom', 'orgs': ['mimacom']},\n",
       " {'name': 'Netcetera', 'orgs': ['netceteragroup']},\n",
       " {'name': 'OPENGIS.ch GmbH', 'orgs': ['opengisch']},\n",
       " {'name': 'Openstream Internet Solutions', 'orgs': ['openstream']},\n",
       " {'name': 'Puzzle ITC', 'orgs': ['puzzle']},\n",
       " {'name': 'Snowflake', 'orgs': ['snowflakech']},\n",
       " {'name': 'Sourcepole', 'orgs': ['sourcepole']},\n",
       " {'name': 'Tegonal', 'orgs': ['tegonal']},\n",
       " {'name': 'unprofession', 'orgs': ['unprofession-al']},\n",
       " {'name': 'VSHN AG', 'orgs': ['vshn']},\n",
       " {'name': 'XWare GmbH', 'orgs': ['xware-gmbh']},\n",
       " {'name': 'Zühlke', 'orgs': ['Zuehlke']}]"
      ]
     },
     "execution_count": 3,
     "metadata": {},
     "output_type": "execute_result"
    }
   ],
   "source": [
    "githubrepos['GitHubRepos']['IT']['institutions']"
   ]
  },
  {
   "cell_type": "code",
   "execution_count": 4,
   "metadata": {},
   "outputs": [
    {
     "data": {
      "text/plain": [
       "['adfinis-sygroup', 'adfinis-forks']"
      ]
     },
     "execution_count": 4,
     "metadata": {},
     "output_type": "execute_result"
    }
   ],
   "source": [
    "liip = [ item for item in githubrepos['GitHubRepos']['IT']['institutions'] if item['name']=='Liip' ][0]['orgs']\n",
    "liip\n",
    "adfinis = [ item for item in githubrepos['GitHubRepos']['IT']['institutions'] if item['name']=='Adfinis SyGroup' ][0]['orgs']\n",
    "adfinis"
   ]
  },
  {
   "cell_type": "code",
   "execution_count": 5,
   "metadata": {},
   "outputs": [
    {
     "data": {
      "text/plain": [
       "[Repository(full_name=\"adfinis-sygroup/freeze\"),\n",
       " Repository(full_name=\"adfinis-sygroup/groupmail\"),\n",
       " Repository(full_name=\"adfinis-sygroup/2119\"),\n",
       " Repository(full_name=\"adfinis-sygroup/vagrant-roundcube-plugins\"),\n",
       " Repository(full_name=\"adfinis-sygroup/roundcube-plugin-mailforward\"),\n",
       " Repository(full_name=\"adfinis-sygroup/roundcube-plugin-amavisspamsettings\"),\n",
       " Repository(full_name=\"adfinis-sygroup/vagrant-debian8-box\"),\n",
       " Repository(full_name=\"adfinis-sygroup/adcssy\"),\n",
       " Repository(full_name=\"adfinis-sygroup/vagrant-debian7-box\"),\n",
       " Repository(full_name=\"adfinis-sygroup/customer-center\"),\n",
       " Repository(full_name=\"adfinis-sygroup/syrpc-php\"),\n",
       " Repository(full_name=\"adfinis-sygroup/syrpc-js\"),\n",
       " Repository(full_name=\"adfinis-sygroup/syrpc-python\"),\n",
       " Repository(full_name=\"adfinis-sygroup/syrpc\"),\n",
       " Repository(full_name=\"adfinis-sygroup/ember-sy\"),\n",
       " Repository(full_name=\"adfinis-sygroup/ember-adcssy\"),\n",
       " Repository(full_name=\"adfinis-sygroup/pyproject\"),\n",
       " Repository(full_name=\"adfinis-sygroup/mariadb-ansible-galera-cluster\"),\n",
       " Repository(full_name=\"adfinis-sygroup/vagrant-centos6-box\"),\n",
       " Repository(full_name=\"adfinis-sygroup/finja\"),\n",
       " Repository(full_name=\"adfinis-sygroup/virtesk\"),\n",
       " Repository(full_name=\"adfinis-sygroup/pyaptly\"),\n",
       " Repository(full_name=\"adfinis-sygroup/adsy-sphinx-template\"),\n",
       " Repository(full_name=\"adfinis-sygroup/foreman-yml\"),\n",
       " Repository(full_name=\"adfinis-sygroup/check-ssl\"),\n",
       " Repository(full_name=\"adfinis-sygroup/vagrant-manual-build\"),\n",
       " Repository(full_name=\"adfinis-sygroup/vagrant-centos7-box\"),\n",
       " Repository(full_name=\"adfinis-sygroup/foreman-ansible\"),\n",
       " Repository(full_name=\"adfinis-sygroup/timed-backend\"),\n",
       " Repository(full_name=\"adfinis-sygroup/timed-frontend\"),\n",
       " Repository(full_name=\"adfinis-sygroup/matterpy\"),\n",
       " Repository(full_name=\"adfinis-sygroup/pyark\"),\n",
       " Repository(full_name=\"adfinis-sygroup/ember-filter-image\"),\n",
       " Repository(full_name=\"adfinis-sygroup/libreoffice-smb-slider\"),\n",
       " Repository(full_name=\"adfinis-sygroup/freewvs-wrapper\"),\n",
       " Repository(full_name=\"adfinis-sygroup/openshift-mariadb-galera\"),\n",
       " Repository(full_name=\"adfinis-sygroup/vault-client\"),\n",
       " Repository(full_name=\"adfinis-sygroup/ember-validated-form\"),\n",
       " Repository(full_name=\"adfinis-sygroup/yuidoc-adsy-theme\"),\n",
       " Repository(full_name=\"adfinis-sygroup/mariadb-galera-chart\"),\n",
       " Repository(full_name=\"adfinis-sygroup/sbb-fallblatt\"),\n",
       " Repository(full_name=\"adfinis-sygroup/rmd.io\"),\n",
       " Repository(full_name=\"adfinis-sygroup/aem-docker\"),\n",
       " Repository(full_name=\"adfinis-sygroup/pure_func\"),\n",
       " Repository(full_name=\"adfinis-sygroup/adsy-trainings-common\"),\n",
       " Repository(full_name=\"adfinis-sygroup/adsy-trainings\"),\n",
       " Repository(full_name=\"adfinis-sygroup/gitlab-pkgbot\"),\n",
       " Repository(full_name=\"adfinis-sygroup/ose-dotnet-mssql-example\"),\n",
       " Repository(full_name=\"adfinis-sygroup/gitlab-docsbot\"),\n",
       " Repository(full_name=\"adfinis-sygroup/mirror-ansible\"),\n",
       " Repository(full_name=\"adfinis-sygroup/ember-autolinker\"),\n",
       " Repository(full_name=\"adfinis-sygroup/effing-package-manager-docker\"),\n",
       " Repository(full_name=\"adfinis-sygroup/poweradmin-rest-api\"),\n",
       " Repository(full_name=\"adfinis-sygroup/timed-chart\"),\n",
       " Repository(full_name=\"adfinis-sygroup/timed-client\"),\n",
       " Repository(full_name=\"adfinis-sygroup/ansible-lint-rules\"),\n",
       " Repository(full_name=\"adfinis-sygroup/acme-powerdns\"),\n",
       " Repository(full_name=\"adfinis-sygroup/ansible-roles\"),\n",
       " Repository(full_name=\"adfinis-sygroup/ansible-guide\"),\n",
       " Repository(full_name=\"adfinis-sygroup/node-url-urlshortener\"),\n",
       " Repository(full_name=\"adfinis-sygroup/ember-uikit-adsy-theme\"),\n",
       " Repository(full_name=\"adfinis-sygroup/ember-uikit\"),\n",
       " Repository(full_name=\"adfinis-sygroup/osschallenge\"),\n",
       " Repository(full_name=\"adfinis-sygroup/limesurvey-theme\"),\n",
       " Repository(full_name=\"adfinis-sygroup/ember-model-namespaces\"),\n",
       " Repository(full_name=\"adfinis-sygroup/cookiecutter-django-json-api\"),\n",
       " Repository(full_name=\"adfinis-sygroup/packer-cloud-images\"),\n",
       " Repository(full_name=\"adfinis-sygroup/ansible-role-azure_linux_image\"),\n",
       " Repository(full_name=\"adfinis-sygroup/vagrant-debian9-box\"),\n",
       " Repository(full_name=\"adfinis-sygroup/vagrant-ubuntu16.04-box\"),\n",
       " Repository(full_name=\"adfinis-sygroup/vagrant-ubuntu14.04-box\"),\n",
       " Repository(full_name=\"adfinis-sygroup/backupctl\"),\n",
       " Repository(full_name=\"adfinis-sygroup/timed-demo\"),\n",
       " Repository(full_name=\"adfinis-sygroup/ansible-role-ansible\"),\n",
       " Repository(full_name=\"adfinis-sygroup/ansible-role-console\"),\n",
       " Repository(full_name=\"adfinis-sygroup/ansible-role-docker\"),\n",
       " Repository(full_name=\"adfinis-sygroup/ansible-role-grub\"),\n",
       " Repository(full_name=\"adfinis-sygroup/ansible-role-hostname\"),\n",
       " Repository(full_name=\"adfinis-sygroup/ansible-role-hwraid\"),\n",
       " Repository(full_name=\"adfinis-sygroup/ansible-role-hw_vm_tools\"),\n",
       " Repository(full_name=\"adfinis-sygroup/ansible-role-ipmi\"),\n",
       " Repository(full_name=\"adfinis-sygroup/ansible-role-iptables\"),\n",
       " Repository(full_name=\"adfinis-sygroup/ansible-role-mariadb\"),\n",
       " Repository(full_name=\"adfinis-sygroup/ansible-role-motd\"),\n",
       " Repository(full_name=\"adfinis-sygroup/ansible-role-network\"),\n",
       " Repository(full_name=\"adfinis-sygroup/ansible-role-nginx\"),\n",
       " Repository(full_name=\"adfinis-sygroup/ansible-role-nodejs\"),\n",
       " Repository(full_name=\"adfinis-sygroup/ansible-role-ntp\"),\n",
       " Repository(full_name=\"adfinis-sygroup/ansible-role-pkg_mirror\"),\n",
       " Repository(full_name=\"adfinis-sygroup/ansible-role-pki\"),\n",
       " Repository(full_name=\"adfinis-sygroup/ansible-role-postfix\"),\n",
       " Repository(full_name=\"adfinis-sygroup/ansible-role-rpcbind\"),\n",
       " Repository(full_name=\"adfinis-sygroup/ansible-role-rsyslog\"),\n",
       " Repository(full_name=\"adfinis-sygroup/ansible-role-snmp\"),\n",
       " Repository(full_name=\"adfinis-sygroup/ansible-role-ssh\"),\n",
       " Repository(full_name=\"adfinis-sygroup/ansible-role-telegraf\"),\n",
       " Repository(full_name=\"adfinis-sygroup/ansible-role-_template\"),\n",
       " Repository(full_name=\"adfinis-sygroup/ansible-role-upgrade\"),\n",
       " Repository(full_name=\"adfinis-sygroup/ansible-role-users\"),\n",
       " Repository(full_name=\"adfinis-sygroup/ansible-role-sqlite\"),\n",
       " Repository(full_name=\"adfinis-sygroup/ansible-role-libvirt\"),\n",
       " Repository(full_name=\"adfinis-sygroup/ember-simple-auth-oidc\"),\n",
       " Repository(full_name=\"adfinis-sygroup/base4kids2-ansible\"),\n",
       " Repository(full_name=\"adfinis-sygroup/ansible-role-repo_mirror\"),\n",
       " Repository(full_name=\"adfinis-sygroup/prometheus-architecture\"),\n",
       " Repository(full_name=\"adfinis-sygroup/docker-terraform-azure\"),\n",
       " Repository(full_name=\"adfinis-sygroup/potz-holzoepfel-und-zipfelchape\"),\n",
       " Repository(full_name=\"adfinis-sygroup/eslint-config\"),\n",
       " Repository(full_name=\"adfinis-sygroup/ansible-role-openshift_backup\"),\n",
       " Repository(full_name=\"adfinis-sygroup/ansible-role-isc_dhcp_server\"),\n",
       " Repository(full_name=\"adfinis-sygroup/ansible-role-passenger_nginx\"),\n",
       " Repository(full_name=\"adfinis-sygroup/base4kids2-sso\"),\n",
       " Repository(full_name=\"adfinis-sygroup/base4kids2-misc\"),\n",
       " Repository(full_name=\"adfinis-sygroup/ansible-role-icinga2_agent\"),\n",
       " Repository(full_name=\"adfinis-sygroup/postgres-eatmydata\"),\n",
       " Repository(full_name=\"adfinis-sygroup/ansible-role-icinga2_master\"),\n",
       " Repository(full_name=\"adfinis-sygroup/ansible-role-icinga2_web\"),\n",
       " Repository(full_name=\"adfinis-sygroup/ansible-role-icinga2_client\"),\n",
       " Repository(full_name=\"adfinis-sygroup/nginx-echo\"),\n",
       " Repository(full_name=\"adfinis-sygroup/apprentice-interview-tasks\"),\n",
       " Repository(full_name=\"adfinis-sygroup/leveldb-repairdb\"),\n",
       " Repository(full_name=\"adfinis-sygroup/base4kids2-ldap-schema\"),\n",
       " Repository(full_name=\"adfinis-sygroup/ansible-role-apache\"),\n",
       " Repository(full_name=\"adfinis-sygroup/vagrant-ubuntu18.04-box\"),\n",
       " Repository(full_name=\"adfinis-sygroup/vagrant-boxes\"),\n",
       " Repository(full_name=\"adfinis-sygroup/ansible-role-groups\"),\n",
       " Repository(full_name=\"adfinis-sygroup/ansible-role-java\"),\n",
       " Repository(full_name=\"adfinis-sygroup/github-terraform\"),\n",
       " Repository(full_name=\"adfinis-sygroup/document-merge-service\"),\n",
       " Repository(full_name=\"adfinis-sygroup/ansible-role-graphite\"),\n",
       " Repository(full_name=\"adfinis-sygroup/ansible-role-php_fpm\"),\n",
       " Repository(full_name=\"adfinis-sygroup/ansible-role-firewalld\"),\n",
       " Repository(full_name=\"adfinis-sygroup/ansible-role-gitlab_runner\"),\n",
       " Repository(full_name=\"adfinis-sygroup/terraform-aks\"),\n",
       " Repository(full_name=\"adfinis-sygroup/docker-thumbor-redis\"),\n",
       " Repository(full_name=\"adfinis-sygroup/landingpage-repo_mirror\"),\n",
       " Repository(full_name=\"adfinis-sygroup/base4kids2-keepalived-scripts\"),\n",
       " Repository(full_name=\"adfinis-sygroup/ansible-role-redis\"),\n",
       " Repository(full_name=\"adfinis-sygroup/389-directory-backup\"),\n",
       " Repository(full_name=\"adfinis-sygroup/terraform-azurerm-acr\"),\n",
       " Repository(full_name=\"adfinis-sygroup/mate-counter\"),\n",
       " Repository(full_name=\"adfinis-sygroup/libreoffice-templates\"),\n",
       " Repository(full_name=\"adfinis-sygroup/ember-document-merge-service\"),\n",
       " Repository(full_name=\"adfinis-sygroup/semantic-release-config\"),\n",
       " Repository(full_name=\"adfinis-sygroup/base4kids2-libreoffice-templates\"),\n",
       " Repository(full_name=\"adfinis-sygroup/terraform-flappy-module\"),\n",
       " Repository(full_name=\"adfinis-sygroup/muuvctl\"),\n",
       " Repository(full_name=\"adfinis-sygroup/ansible-role-epel\"),\n",
       " Repository(full_name=\"adfinis-sygroup/mattermost-user-deleter\"),\n",
       " Repository(full_name=\"adfinis-sygroup/nextcloud-user-deleter\"),\n",
       " Repository(full_name=\"adfinis-sygroup/openshift-csr-approver\"),\n",
       " Repository(full_name=\"adfinis-sygroup/terraform-azurerm-backupstorage\"),\n",
       " Repository(full_name=\"adfinis-sygroup/mattermost-channel-deleter\"),\n",
       " Repository(full_name=\"adfinis-sygroup/flappy-sez\"),\n",
       " Repository(full_name=\"adfinis-sygroup/johnny\"),\n",
       " Repository(full_name=\"adfinis-sygroup/dinacon-awards\"),\n",
       " Repository(full_name=\"adfinis-sygroup/helm-charts\"),\n",
       " Repository(full_name=\"adfinis-sygroup/openshift4-upgrade-path\"),\n",
       " Repository(full_name=\"adfinis-sygroup/terraform-vault-namespace\"),\n",
       " Repository(full_name=\"adfinis-sygroup/ansible-role-systemd_journald\"),\n",
       " Repository(full_name=\"adfinis-sygroup/back8sup\"),\n",
       " Repository(full_name=\"adfinis-sygroup/vault-raft-backup-agent\"),\n",
       " Repository(full_name=\"adfinis-sygroup/git-runstats\"),\n",
       " Repository(full_name=\"adfinis-sygroup/annotation-spec\"),\n",
       " Repository(full_name=\"adfinis-sygroup/jekyll-theme-adfinis\"),\n",
       " Repository(full_name=\"adfinis-sygroup/debug-container\")]"
      ]
     },
     "execution_count": 5,
     "metadata": {},
     "output_type": "execute_result"
    }
   ],
   "source": [
    "list(g.get_organization(adfinis[0]).get_repos())"
   ]
  },
  {
   "cell_type": "code",
   "execution_count": 6,
   "metadata": {},
   "outputs": [
    {
     "data": {
      "text/plain": [
       "[Repository(full_name=\"liip/okapi1_core\"),\n",
       " Repository(full_name=\"liip/Radios\"),\n",
       " Repository(full_name=\"liip/phonegap-plugins-system\"),\n",
       " Repository(full_name=\"liip/phonegap-plugins-audiostream\"),\n",
       " Repository(full_name=\"liip/niweaapp\"),\n",
       " Repository(full_name=\"liip/LiipMultiplexBundle\"),\n",
       " Repository(full_name=\"liip/LiipFunctionalTestBundle\"),\n",
       " Repository(full_name=\"liip/LiipXsltBundle\"),\n",
       " Repository(full_name=\"liip/sf2debpkg\"),\n",
       " Repository(full_name=\"liip/LiipTeraWurflBundle\"),\n",
       " Repository(full_name=\"liip/build-entropy-php\"),\n",
       " Repository(full_name=\"liip/ushahidi-plugins-mobile\"),\n",
       " Repository(full_name=\"liip/LiipHelloBundle\"),\n",
       " Repository(full_name=\"liip/php-osx\"),\n",
       " Repository(full_name=\"liip/packager\"),\n",
       " Repository(full_name=\"liip/LiipThemeBundle\"),\n",
       " Repository(full_name=\"liip/LiipContainerWrapperBundle\"),\n",
       " Repository(full_name=\"liip/LiipCacheControlBundle\"),\n",
       " Repository(full_name=\"liip/fe_variable\"),\n",
       " Repository(full_name=\"liip/fe_wysiwyg\"),\n",
       " Repository(full_name=\"liip/fe_variable_i18n\"),\n",
       " Repository(full_name=\"liip/LiipVieBundle\"),\n",
       " Repository(full_name=\"liip/Okapi\"),\n",
       " Repository(full_name=\"liip/mahararpmpkg\"),\n",
       " Repository(full_name=\"liip/LiipHyphenatorBundle\"),\n",
       " Repository(full_name=\"liip/LiipMagentoBundle\"),\n",
       " Repository(full_name=\"liip/LiipSearchBundle\"),\n",
       " Repository(full_name=\"liip/LiipImagineBundle\"),\n",
       " Repository(full_name=\"liip/LiipUrlAutoConverterBundle\"),\n",
       " Repository(full_name=\"liip/LiipDoctrineCacheBundle\"),\n",
       " Repository(full_name=\"liip/LiipProcessManager\"),\n",
       " Repository(full_name=\"liip/packaging\"),\n",
       " Repository(full_name=\"liip/packaging_demo\"),\n",
       " Repository(full_name=\"liip/backendproxy\"),\n",
       " Repository(full_name=\"liip/LiipCodeBundle\"),\n",
       " Repository(full_name=\"liip/LiipMonitorBundle\"),\n",
       " Repository(full_name=\"liip/liip-cookbooks\"),\n",
       " Repository(full_name=\"liip/MinkSelenium2Driver\"),\n",
       " Repository(full_name=\"liip/LiipDrupalConnectorModule\"),\n",
       " Repository(full_name=\"liip/taxi\"),\n",
       " Repository(full_name=\"liip/blog_liip_ch_posts\"),\n",
       " Repository(full_name=\"liip/VagrantDeductor\"),\n",
       " Repository(full_name=\"liip/barcode.js\"),\n",
       " Repository(full_name=\"liip/RMT\"),\n",
       " Repository(full_name=\"liip/Backbone.localStorageSync\"),\n",
       " Repository(full_name=\"liip/PHPCR-and-Magnolia\"),\n",
       " Repository(full_name=\"liip/OpenLayersOfflineDemo\"),\n",
       " Repository(full_name=\"liip/LiipMonitor\"),\n",
       " Repository(full_name=\"liip/LiipFormTranslationChoiceBundle\"),\n",
       " Repository(full_name=\"liip/commit-hook-email\"),\n",
       " Repository(full_name=\"liip/liip-magento-shared\"),\n",
       " Repository(full_name=\"liip/LiipSoapRecorderBundle\"),\n",
       " Repository(full_name=\"liip/magento-xhprof\"),\n",
       " Repository(full_name=\"liip/LiipFoxycartBundle\"),\n",
       " Repository(full_name=\"liip/LiipOneallBundle\"),\n",
       " Repository(full_name=\"liip/DataAggregator\"),\n",
       " Repository(full_name=\"liip/LiipDrupalEventManagerModule\"),\n",
       " Repository(full_name=\"liip/LiipDrupalRegistryModule\"),\n",
       " Repository(full_name=\"liip/LiipDataAggregatorBundle\"),\n",
       " Repository(full_name=\"liip/LiipDrupalTranslationModule\"),\n",
       " Repository(full_name=\"liip/elasticsearch-isalive\"),\n",
       " Repository(full_name=\"liip/LiipDrupalLess\"),\n",
       " Repository(full_name=\"liip/LiipDrushVersionManagerCommand\"),\n",
       " Repository(full_name=\"liip/LiipDrupalCrudAdminModule\"),\n",
       " Repository(full_name=\"liip/LiipRegistryAdaptor\"),\n",
       " Repository(full_name=\"liip/LiipGlobalBlockBundle\"),\n",
       " Repository(full_name=\"liip/LiipTranslationBundle\"),\n",
       " Repository(full_name=\"liip/presence\"),\n",
       " Repository(full_name=\"liip/move-freeflux\"),\n",
       " Repository(full_name=\"liip/limmatstrasse-183\"),\n",
       " Repository(full_name=\"liip/drupal-search_api_elasticsearch\"),\n",
       " Repository(full_name=\"liip/request.data\"),\n",
       " Repository(full_name=\"liip/fabliip\"),\n",
       " Repository(full_name=\"liip/fanci\"),\n",
       " Repository(full_name=\"liip/dockerbox\"),\n",
       " Repository(full_name=\"liip/dw-plugin-recaptcha\"),\n",
       " Repository(full_name=\"liip/ckan-vagrant\"),\n",
       " Repository(full_name=\"liip/drifter\"),\n",
       " Repository(full_name=\"liip/djangocms-template\"),\n",
       " Repository(full_name=\"liip/ckanext-ddi\"),\n",
       " Repository(full_name=\"liip/guess-the-liiper-ios\"),\n",
       " Repository(full_name=\"liip/coding-dojo-katas\"),\n",
       " Repository(full_name=\"liip/drupal-yellowcube-demo-shop\"),\n",
       " Repository(full_name=\"liip/django-template\"),\n",
       " Repository(full_name=\"liip/magento-config-search\"),\n",
       " Repository(full_name=\"liip/liip-aem\"),\n",
       " Repository(full_name=\"liip/magerant\"),\n",
       " Repository(full_name=\"liip/kanbasu\"),\n",
       " Repository(full_name=\"liip/DynamoDbTransformer\"),\n",
       " Repository(full_name=\"liip/thinkspace\"),\n",
       " Repository(full_name=\"liip/transport-falcor\"),\n",
       " Repository(full_name=\"liip/bower-lockfile-resolver\"),\n",
       " Repository(full_name=\"liip/SEO-keywords-generator\"),\n",
       " Repository(full_name=\"liip/bootstrap-accessibility-plugin\"),\n",
       " Repository(full_name=\"liip/TheA11yMachine\"),\n",
       " Repository(full_name=\"liip/woocommerce-demo\"),\n",
       " Repository(full_name=\"liip/bund-drupal-starterkit\"),\n",
       " Repository(full_name=\"liip/bund_drupal_starterkit_theme\"),\n",
       " Repository(full_name=\"liip/bund_drupal_starterkit_profile\"),\n",
       " Repository(full_name=\"liip/bund_drupal_starterkit_dummycontent\"),\n",
       " Repository(full_name=\"liip/wp-tyk-dev-portal\"),\n",
       " Repository(full_name=\"liip/solr-debify\"),\n",
       " Repository(full_name=\"liip/djangocms-local-navigation\"),\n",
       " Repository(full_name=\"liip/django-ansible\"),\n",
       " Repository(full_name=\"liip/LiipKit\"),\n",
       " Repository(full_name=\"liip/styleguide\"),\n",
       " Repository(full_name=\"liip/liip-gitlab-slack\"),\n",
       " Repository(full_name=\"liip/sheriff\"),\n",
       " Repository(full_name=\"liip/liip10yearsgame\"),\n",
       " Repository(full_name=\"liip/jira-cards-6\"),\n",
       " Repository(full_name=\"liip/html2kirby\"),\n",
       " Repository(full_name=\"liip/octobercms-setup\"),\n",
       " Repository(full_name=\"liip/styleguide-starterkit\"),\n",
       " Repository(full_name=\"liip/magento-order-email-jsonld\"),\n",
       " Repository(full_name=\"liip/oc-blocks-theme\"),\n",
       " Repository(full_name=\"liip/magento-order-by-sku\"),\n",
       " Repository(full_name=\"liip/shapefile-blog-example\"),\n",
       " Repository(full_name=\"liip/requests_gpgauthlib\"),\n",
       " Repository(full_name=\"liip/jira-api-to-google-apps\"),\n",
       " Repository(full_name=\"liip/wrench\"),\n",
       " Repository(full_name=\"liip/frctl-twig\"),\n",
       " Repository(full_name=\"liip/wp-docker-setup\"),\n",
       " Repository(full_name=\"liip/discourse-multilingual-support\"),\n",
       " Repository(full_name=\"liip/moodle-local_confseed\"),\n",
       " Repository(full_name=\"liip/portal-showcase\"),\n",
       " Repository(full_name=\"liip/LiipRokkaImagineBundle\"),\n",
       " Repository(full_name=\"liip/SweetPreferences\"),\n",
       " Repository(full_name=\"liip/roger-q\"),\n",
       " Repository(full_name=\"liip/moodle-local_courseduplication\"),\n",
       " Repository(full_name=\"liip/moodle-local_coursedeletion\"),\n",
       " Repository(full_name=\"liip/wp-docker\"),\n",
       " Repository(full_name=\"liip/kanbasu-vue\"),\n",
       " Repository(full_name=\"liip/PicShare\"),\n",
       " Repository(full_name=\"liip/metadata-parser\"),\n",
       " Repository(full_name=\"liip/serializer\"),\n",
       " Repository(full_name=\"liip/serializer-jms-adapter\"),\n",
       " Repository(full_name=\"liip/bootstrap-blocks-wordpress-plugin\"),\n",
       " Repository(full_name=\"liip/LiipTestFixturesBundle\"),\n",
       " Repository(full_name=\"liip/viewmodel-savedstate-helpers\"),\n",
       " Repository(full_name=\"liip/animate-blocks-wordpress-plugin\"),\n",
       " Repository(full_name=\"liip/extend-block-example-wp-plugin\"),\n",
       " Repository(full_name=\"liip/varnish-plus-cli\"),\n",
       " Repository(full_name=\"liip/wrapper-block-example-wp-plugin\"),\n",
       " Repository(full_name=\"liip/oc-user-plugin\"),\n",
       " Repository(full_name=\"liip/oc-cors-plugin\"),\n",
       " Repository(full_name=\"liip/jelasticli\"),\n",
       " Repository(full_name=\"liip/moodle-local_dbgc\"),\n",
       " Repository(full_name=\"liip/image-selector-example-wp-plugin\"),\n",
       " Repository(full_name=\"liip/pontsun\"),\n",
       " Repository(full_name=\"liip/pontsun-cli\"),\n",
       " Repository(full_name=\"liip/laravel-langman\"),\n",
       " Repository(full_name=\"liip/jelapi\"),\n",
       " Repository(full_name=\"liip/docker-ssl-keygen\"),\n",
       " Repository(full_name=\"liip/Sodium.Xamarin\"),\n",
       " Repository(full_name=\"liip/storybook-starterkit\"),\n",
       " Repository(full_name=\"liip/e2e-tests-example-wp-plugin\"),\n",
       " Repository(full_name=\"liip/parlaqui\"),\n",
       " Repository(full_name=\"liip/slack-infra\"),\n",
       " Repository(full_name=\"liip/smoke-detector\"),\n",
       " Repository(full_name=\"liip/chusho\"),\n",
       " Repository(full_name=\"liip/guess-the-liiper\"),\n",
       " Repository(full_name=\"liip/docker-ssh-agent\"),\n",
       " Repository(full_name=\"liip/docker-dnsmasq\"),\n",
       " Repository(full_name=\"liip/django-dot-pkce-example\"),\n",
       " Repository(full_name=\"liip/drupal_coder_enhancements\")]"
      ]
     },
     "execution_count": 6,
     "metadata": {},
     "output_type": "execute_result"
    }
   ],
   "source": [
    "list(g.get_organization(liip[0]).get_repos())"
   ]
  },
  {
   "cell_type": "code",
   "execution_count": 7,
   "metadata": {},
   "outputs": [
    {
     "data": {
      "text/plain": [
       "Repository(full_name=\"liip/slack-infra\")"
      ]
     },
     "execution_count": 7,
     "metadata": {},
     "output_type": "execute_result"
    }
   ],
   "source": [
    "repo = g.get_repo(\"liip/slack-infra\")\n",
    "repo"
   ]
  },
  {
   "cell_type": "code",
   "execution_count": 8,
   "metadata": {},
   "outputs": [
    {
     "data": {
      "text/plain": [
       "<github.Comparison.Comparison at 0x7f5dcc7af280>"
      ]
     },
     "execution_count": 8,
     "metadata": {},
     "output_type": "execute_result"
    }
   ],
   "source": [
    "comparison = repo.compare(\"master\", \"kubernetes-sigs:master\")\n",
    "comparison"
   ]
  },
  {
   "cell_type": "code",
   "execution_count": 9,
   "metadata": {},
   "outputs": [
    {
     "data": {
      "text/plain": [
       "0"
      ]
     },
     "execution_count": 9,
     "metadata": {},
     "output_type": "execute_result"
    }
   ],
   "source": [
    "comparison.behind_by"
   ]
  },
  {
   "cell_type": "code",
   "execution_count": 10,
   "metadata": {},
   "outputs": [
    {
     "data": {
      "text/plain": [
       "'kubernetes-sigs/slack-infra'"
      ]
     },
     "execution_count": 10,
     "metadata": {},
     "output_type": "execute_result"
    }
   ],
   "source": [
    "repo.parent.full_name"
   ]
  },
  {
   "cell_type": "code",
   "execution_count": 53,
   "metadata": {},
   "outputs": [
    {
     "data": {
      "text/plain": [
       "16"
      ]
     },
     "execution_count": 53,
     "metadata": {},
     "output_type": "execute_result"
    }
   ],
   "source": [
    "forked_repo = g.get_repo(\"liip/laravel-langman\")\n",
    "if test_repo.parent:\n",
    "    com = forked_repo.compare(test_repo.parent.owner.login + \":master\", \"master\")\n",
    "    \n",
    "com.ahead_by"
   ]
  },
  {
   "cell_type": "code",
   "execution_count": 43,
   "metadata": {},
   "outputs": [
    {
     "data": {
      "text/plain": [
       "Repository(full_name=\"liip/LiipImagineBundle\")"
      ]
     },
     "execution_count": 43,
     "metadata": {},
     "output_type": "execute_result"
    }
   ],
   "source": [
    "original_repo = g.get_repo(\"liip/LiipImagineBundle\")\n",
    "original_repo"
   ]
  },
  {
   "cell_type": "code",
   "execution_count": 44,
   "metadata": {},
   "outputs": [
    {
     "data": {
      "text/plain": [
       "604"
      ]
     },
     "execution_count": 44,
     "metadata": {},
     "output_type": "execute_result"
    }
   ],
   "source": [
    "original_repo.get_pulls(state=\"closed\").totalCount"
   ]
  },
  {
   "cell_type": "code",
   "execution_count": 56,
   "metadata": {},
   "outputs": [
    {
     "data": {
      "text/plain": [
       "'171,158'"
      ]
     },
     "execution_count": 56,
     "metadata": {},
     "output_type": "execute_result"
    }
   ],
   "source": [
    "str(forked_repo.size) + \",\" + str(forked_repo.parent.size)"
   ]
  },
  {
   "cell_type": "code",
   "execution_count": 57,
   "metadata": {},
   "outputs": [
    {
     "data": {
      "text/plain": [
       "0"
      ]
     },
     "execution_count": 57,
     "metadata": {},
     "output_type": "execute_result"
    }
   ],
   "source": [
    "forked_repo.get_issues(state=\"all\").totalCount"
   ]
  },
  {
   "cell_type": "code",
   "execution_count": 51,
   "metadata": {},
   "outputs": [
    {
     "data": {
      "text/plain": [
       "613"
      ]
     },
     "execution_count": 51,
     "metadata": {},
     "output_type": "execute_result"
    }
   ],
   "source": [
    "original_repo.get_pulls(state=\"all\").totalCount"
   ]
  },
  {
   "cell_type": "code",
   "execution_count": 58,
   "metadata": {},
   "outputs": [
    {
     "data": {
      "text/plain": [
       "1"
      ]
     },
     "execution_count": 58,
     "metadata": {},
     "output_type": "execute_result"
    }
   ],
   "source": [
    "forked_repo.watchers_count"
   ]
  },
  {
   "cell_type": "code",
   "execution_count": 60,
   "metadata": {},
   "outputs": [
    {
     "data": {
      "text/plain": [
       "0"
      ]
     },
     "execution_count": 60,
     "metadata": {},
     "output_type": "execute_result"
    }
   ],
   "source": [
    "forked_repo.subscribers_count"
   ]
  },
  {
   "cell_type": "code",
   "execution_count": 63,
   "metadata": {},
   "outputs": [
    {
     "data": {
      "text/plain": [
       "<github.StatsCommitActivity.StatsCommitActivity at 0x7f5dbd2d6340>"
      ]
     },
     "execution_count": 63,
     "metadata": {},
     "output_type": "execute_result"
    }
   ],
   "source": [
    "forked_repo.get_stats_commit_activity()[0]"
   ]
  },
  {
   "cell_type": "code",
   "execution_count": null,
   "metadata": {},
   "outputs": [],
   "source": []
  }
 ],
 "metadata": {
  "kernelspec": {
   "display_name": "Python 3",
   "language": "python",
   "name": "python3"
  },
  "language_info": {
   "codemirror_mode": {
    "name": "ipython",
    "version": 3
   },
   "file_extension": ".py",
   "mimetype": "text/x-python",
   "name": "python",
   "nbconvert_exporter": "python",
   "pygments_lexer": "ipython3",
   "version": "3.8.5"
  }
 },
 "nbformat": 4,
 "nbformat_minor": 4
}
